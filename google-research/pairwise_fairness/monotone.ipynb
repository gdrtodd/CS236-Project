{
  "nbformat": 4,
  "nbformat_minor": 0,
  "metadata": {
    "colab": {
      "name": "monotone",
      "provenance": [
        {
          "file_id": "1WmxC8Ym4pFGKLyRSsJ2UIXffh-nZXhFs",
          "timestamp": 1574284681435
        },
        {
          "file_id": "1vSqbvVjU7oCcEAeYh-MVPkPSfx5mkqlE",
          "timestamp": 1550791695785
        }
      ],
      "collapsed_sections": [],
      "last_runtime": {
        "build_target": "",
        "kind": "local"
      }
    },
    "kernelspec": {
      "name": "python3",
      "display_name": "Python 3"
    }
  },
  "cells": [
    {
      "cell_type": "markdown",
      "metadata": {
        "colab_type": "text",
        "id": "ywj1qEt3-lLC"
      },
      "source": [
        "##### Copyright 2018 Google LLC.\n",
        "\n",
        "\n",
        "Licensed under the Apache License, Version 2.0 (the \"License\");\n",
        "you may not use this file except in compliance with the License.\n",
        "You may obtain a copy of the License at\n",
        "\n",
        "    https://www.apache.org/licenses/LICENSE-2.0\n",
        "\n",
        "Unless required by applicable law or agreed to in writing, software\n",
        "distributed under the License is distributed on an \"AS IS\" BASIS,\n",
        "WITHOUT WARRANTIES OR CONDITIONS OF ANY KIND, either express or implied.\n",
        "See the License for the specific language governing permissions and\n",
        "limitations under the License."
      ]
    },
    {
      "cell_type": "code",
      "metadata": {
        "id": "rcsUQKXN3Qb4",
        "colab_type": "code",
        "colab": {}
      },
      "source": [
        "import matplotlib.pyplot as plt\n",
        "import numpy as np\n",
        "import pandas as pd\n",
        "\n",
        "# Tensorflow modules.\n",
        "import tensorflow as tf"
      ],
      "execution_count": 0,
      "outputs": []
    },
    {
      "cell_type": "code",
      "metadata": {
        "id": "mhe1T1Xm1oGA",
        "colab_type": "code",
        "colab": {}
      },
      "source": [
        "# Install Tensorflow Lattice and Tensorflow Constrained Optimization libraries.\n",
        "!pip install tensorflow_lattice\n",
        "!pip install git+https://github.com/google-research/tensorflow_constrained_optimization"
      ],
      "execution_count": 0,
      "outputs": []
    },
    {
      "cell_type": "code",
      "metadata": {
        "id": "gHB06cJv1jsO",
        "colab_type": "code",
        "colab": {}
      },
      "source": [
        "# Tensor flow lattice modules.\n",
        "import tensorflow_lattice as tfl\n",
        "\n",
        "# Tensorflow constrained optimization modules.\n",
        "import tensorflow_constrained_optimization as tfco"
      ],
      "execution_count": 0,
      "outputs": []
    },
    {
      "cell_type": "markdown",
      "metadata": {
        "id": "rMqd66aG3IKm",
        "colab_type": "text"
      },
      "source": [
        "## Overview"
      ]
    },
    {
      "cell_type": "markdown",
      "metadata": {
        "id": "NV5m-FNT20OH",
        "colab_type": "text"
      },
      "source": [
        "In this notebook, we'll train a one-dimensional monotonic function with pairwise constraints for fairness.  \n",
        "\n",
        "**Problem Setup:** We will consider a simulated ranking task consisting of a set of examples represented by real-valued scores $\\{x_1, \\ldots, x_n\\}$ and a set of \"ground truth\" labels $\\{y_1, \\ldots, y_n\\}$ (with higher implying better). Each example is also associated with a binary protected group. The goal is to learn a real-valued function $f: \\mathbb{R} \\rightarrow \\mathbb{R}$ on the scores that ranks examples with higher labels above those with lower labels.  Additionally, we will impose a fairness goal on $f$ (loosely speaking, we will require $f$ to perform equally well on examples from both groups). \n",
        "<br><br>\n",
        "\n",
        "**Pairwise Fairness:** For measuring fairness, we will adopt the \"pairwise\" fairness criteria proposed in:\n",
        "> Harikrishna Narasimhan, Andrew Cotter, Maya Gupta, Serena Wang, \"Pairwise Fairness for Ranking and Regression\", AAAI 2020.\n",
        "\n",
        "Henceforth, we will refer to this paper as [NCGW19].\n",
        "<br><br>\n",
        "\n",
        "The fairness criteria in [NCGW19] are defined in terms of the group-dependent pairwise accuracy for $f$:\n",
        "$$\n",
        "Acc_{G_i > G_j}(f) \\,=\\, \\mathbb{P}( f(x) > f(x') \\mid y > y', (x,y) \\in G_i, (x',y') \\in G_j ).\n",
        "$$\n",
        "We will use a slight variant of the above definition that assigns a value of 1/2 for ties:\n",
        "$$\n",
        "Acc_{G_i > G_j}(f) \\,=\\, \\mathbb{P}( f(x) > f(x') \\mid y > y', (x,y) \\in G_i, (x',y') \\in G_j ) \\,+\\, \n",
        "\\frac{1}{2}\\mathbb{P}( f(x) = f(x') \\mid y > y', (x,y) \\in G_i, (x',y') \\in G_j ).\n",
        "$$\n",
        "\n",
        "We will also be interested in the  overall pairwise accuracy of $f$:\n",
        "$$\n",
        "A(f) \\,=\\, \\mathbb{P}( f(x) > f(x') \\mid y > y' ) \\,+\\, \\frac{1}{2}\\mathbb{P}( f(x) = f(x') \\mid y > y' ).\n",
        "$$\n",
        "<br>\n",
        "\n",
        "**Monotone Function**: We will restrict our attention to ranking functions $f$ that are monotonic in the scores $x$. While the learned monotone function cannot change the underlying ordering of examples , it can introduce ties in the ordering. As we will see, this can be helpful in enforcing our fairness goal. \n",
        "\n",
        "Throughout this notebook, we will refer to the $x$ as the original score for an example, and $f(x)$ as the prediction for the example.\n"
      ]
    },
    {
      "cell_type": "markdown",
      "metadata": {
        "id": "uO9o9od_EEGm",
        "colab_type": "text"
      },
      "source": [
        "## Simulated Data\n",
        "\n",
        "We generate a dataset with two groups. We generate the scores in such a way that they are more accurate for one of the groups."
      ]
    },
    {
      "cell_type": "code",
      "metadata": {
        "id": "A7ztq8b0EEdP",
        "colab_type": "code",
        "colab": {}
      },
      "source": [
        "np.random.seed(123456)\n",
        "\n",
        "# Generate 100 examples. Each example has a score, label and a binary group.\n",
        "num_examples = 100\n",
        "\n",
        "# Generate labels from a uniform distribution, and \n",
        "# the associated protected groups from a Bernoulli(0.5).\n",
        "labels = np.random.rand(num_examples)\n",
        "groups = (np.random.rand(num_examples) > 0.5) * 1\n",
        "\n",
        "# Generate scores by introducing Gaussian noise in the labels, \n",
        "# and scale them  to [0, 1].\n",
        "scores = labels + np.random.normal(loc=0, scale=0.05, size=num_examples)\n",
        "scores = (scores - scores.min()) / (scores.max() - scores.min())\n",
        "\n",
        "# Additional noise for group 1 examples.\n",
        "# Add uniform random noise to the group scores in the range [0.2, 0.8].\n",
        "noise_low = 0.2\n",
        "noise_high = 0.8\n",
        "noise_indices = (groups == 1) & (scores >= noise_low) & (scores <= noise_high)\n",
        "scores[noise_indices] = noise_low + (\n",
        "    np.random.rand(sum(noise_indices)) * (noise_high - noise_low))"
      ],
      "execution_count": 0,
      "outputs": []
    },
    {
      "cell_type": "markdown",
      "metadata": {
        "id": "uOSaHq-iT34a",
        "colab_type": "text"
      },
      "source": [
        "Let us plot the generated data."
      ]
    },
    {
      "cell_type": "code",
      "metadata": {
        "id": "zHDPRJjrHLzI",
        "colab_type": "code",
        "colab": {}
      },
      "source": [
        "def plot_scores(x, y, groups, ax, xlabel, ylabel):\n",
        "  # Plots x vs. y using different markers for the group0 and group1 examples.\n",
        "  ax.plot(x[groups == 0], y[groups == 0], \"ro\", label=\"Group 0\")\n",
        "  ax.plot(x[groups == 1], y[groups == 1], \"bx\", label=\"Group 1\")\n",
        "  ax.set_xlabel(xlabel)\n",
        "  ax.set_ylabel(ylabel)\n",
        "  ax.set_title(ylabel + \" vs. \" + xlabel)\n",
        "  ax.legend(loc=\"best\")\n",
        "  ff.tight_layout()\n",
        "  \n",
        "# Plot scores as a function of labels.\n",
        "ff, ax = plt.subplots(1, 1, figsize=(5, 5))\n",
        "plot_scores(labels, scores, groups, ax, \"Labels\", \"Scores\")"
      ],
      "execution_count": 0,
      "outputs": []
    },
    {
      "cell_type": "markdown",
      "metadata": {
        "id": "Epf_7eGDUSo5",
        "colab_type": "text"
      },
      "source": [
        "Notice that the original scores order the group 0 examples accurately, but are unreliable for the group 1 examples in the range [0.2, 0.8]. \n",
        "Can we learn a monotone transform on these scores that performs equally well on both groups? For example, would we be able to improve the performance on the group 1 examples by flattening the scores in the [0.2, 0.8] range, while preserving their relative ordering in other regions?"
      ]
    },
    {
      "cell_type": "markdown",
      "metadata": {
        "id": "klkQywh0du20",
        "colab_type": "text"
      },
      "source": [
        "## Formulate Pairs\n",
        "\n",
        "Having generated the data, we enumerate all pairs of examples $(x, x')$ where the labels $y > y'$. By creating ordered example pairs, we can now treat the ranking problem as a classification problem on pairs. "
      ]
    },
    {
      "cell_type": "code",
      "metadata": {
        "id": "DVxq0hqjPQJi",
        "colab_type": "code",
        "colab": {}
      },
      "source": [
        "# Create a pandas DataFrame with the data contents.\n",
        "examples_df = pd.DataFrame()\n",
        "examples_df = examples_df.assign(scores=scores, labels=labels, groups=groups, \n",
        "                                 merge_key=0)\n",
        "\n",
        "# We have an additional merge_key column, which we will use to merge the \n",
        "# data frame with itself, and enumerate all pairs of examples.\n",
        "paired_df = examples_df.merge(examples_df.copy(), on=\"merge_key\", how=\"outer\",\n",
        "                              suffixes=(\"_high\", \"_low\"))\n",
        "\n",
        "# Only retain pairs where labels_high > labels_low.\n",
        "paired_df = paired_df[paired_df.labels_high > paired_df.labels_low]\n",
        "\n",
        "# Create 2-d NumPy array containing the scores for the higher label examples\n",
        "# in the first column and the scores for lower label examples in the second \n",
        "# column. Similarly, create a 2-d NumPy array for the groups.\n",
        "paired_scores = np.stack([paired_df.scores_high.values, \n",
        "                          paired_df.scores_low.values], axis=1)\n",
        "paired_labels = np.stack([paired_df.labels_high.values, \n",
        "                          paired_df.labels_low.values], axis=1)\n",
        "paired_groups = np.stack([paired_df.groups_high.values, \n",
        "                          paired_df.groups_low.values], axis=1)"
      ],
      "execution_count": 0,
      "outputs": []
    },
    {
      "cell_type": "markdown",
      "metadata": {
        "id": "-XENpJ3rVd88",
        "colab_type": "text"
      },
      "source": [
        "Note that `paired_scores`  and `paired_groups` are two-dimensional arrays, where each row represents an ordered pair of example.  The first column in `paired_scores`  contains the scores for the 'high label' examples in the pairs, and the second column contains the scores for the 'low label' examples in the pairs. Similarly,  `paired_groups` contains the corresponding protected groups for the 'high label' and 'low label' examples in the pairs."
      ]
    },
    {
      "cell_type": "markdown",
      "metadata": {
        "id": "SlJnKXpEEBif",
        "colab_type": "text"
      },
      "source": [
        "## Monotone Model\n",
        "\n",
        "We next model the ranking function $f$ as a monotone, one-dimensional calibrator. We use the callibration layer provided in the TF Lattice package to construct the monotone function, and compute the difference in function values $f(x) - f(x')$ on each pair of examples $(x, x')$. The pairwise accuracies can then be computed as a classification rates on the differences in scores.\n",
        "\n",
        "For more details on 1-D calibrators, please see the following <a href=\"http://jmlr.org/papers/v17/15-243.html\"> paper</a>."
      ]
    },
    {
      "cell_type": "code",
      "metadata": {
        "id": "DlhGeHOk-u1p",
        "colab_type": "code",
        "colab": {}
      },
      "source": [
        "tf.reset_default_graph()\n",
        "\n",
        "# We 1-d callibrator with 100 key points. A monotone function is constructed by\n",
        "# linearly interpolating the values on these keypoints.\n",
        "num_keypoints = 100\n",
        "kp_inits = tfl.uniform_keypoints_for_signal(\n",
        "    num_keypoints=num_keypoints,\n",
        "    input_min=0.0,\n",
        "    input_max=1.0,\n",
        "    output_min=0,\n",
        "    output_max=1.0)\n",
        "\n",
        "# Placeholder tensor for holding the input scores.\n",
        "scores_tensor = tf.placeholder(tf.float32, shape=(None,), name=\"scores\")\n",
        "# We pass 1-d input array to the calibrator. Recall that we will eventually need\n",
        "# to compute scores on pairs of examples (x, x'), i.e. on the paired_scores\n",
        "# array. To do so, we will flatten paired_scores and \n",
        "# pass it as a 1-d array (where the first half contains the \"x\" scores, and the \n",
        "# second half contains the \"x'\" scores).\n",
        "\n",
        "# Predictions from the calibrator on the input scores.\n",
        "(predictions_tensor, projection_op, _) = tfl.calibration_layer(\n",
        "    uncalibrated_tensor=scores_tensor,\n",
        "    num_keypoints=num_keypoints,\n",
        "    monotonic=+1,\n",
        "    keypoints_initializers=kp_inits)\n",
        "# Setting monotonic=+1 enforces that the calibrator is monotonic.\n",
        "# Note that the returned projection_op is the projection operation for \n",
        "# enforcing monotonicity.\n",
        "\n",
        "# Since we will feed in a flattened array of scores as input, the \n",
        "# predictions_tensor will also be one dimensional. The first half of this tensor \n",
        "# will contain the scores for the \"x\" examples and the second half of the tensor \n",
        "# will contain the scores for the \"x'\" examples. We will slice the \n",
        "# predictions_tensor into two halves and compute the element-wise differences \n",
        "# in scores between the first half and the second half, i.e. f(x) - f(x').\n",
        "num_pairs = tf.shape(scores_tensor)[0] / 2\n",
        "prediction_diffs_tensor = (predictions_tensor[:num_pairs] - \n",
        "                           predictions_tensor[num_pairs:])"
      ],
      "execution_count": 0,
      "outputs": []
    },
    {
      "cell_type": "markdown",
      "metadata": {
        "id": "uQFulCd0eYoE",
        "colab_type": "text"
      },
      "source": [
        "By creating ordered pairs of examples $(x, x')$, we can now frame the ranking problem as a classification task, with the goal of maximizing the fraction of examples where the difference  $f(x) - f(x')$ is positive. To this end, we define an all 1's tensor that holds the target label for each pair.\n",
        "\n"
      ]
    },
    {
      "cell_type": "code",
      "metadata": {
        "id": "sxFETxH_eeS0",
        "colab_type": "code",
        "colab": {}
      },
      "source": [
        "target_labels_tensor = tf.ones(dtype=tf.float32, shape=(num_pairs,), \n",
        "                               name=\"target_labels\")"
      ],
      "execution_count": 0,
      "outputs": []
    },
    {
      "cell_type": "markdown",
      "metadata": {
        "id": "z6hmxRtCehM_",
        "colab_type": "text"
      },
      "source": [
        "We will also need placeholder tensors to identify subsets of example pairs on which we wish to impose fairness constraints. For this tutorial, we will impose constraints on two subsets of example pairs. We create tensors for holding boolean predicates for identifying these subsets."
      ]
    },
    {
      "cell_type": "code",
      "metadata": {
        "id": "D4kq7hwWehUJ",
        "colab_type": "code",
        "colab": {}
      },
      "source": [
        "subset0_predicate = tf.placeholder(tf.bool, shape=(None,), name=\"subset0\")\n",
        "subset1_predicate = tf.placeholder(tf.bool, shape=(None,), name=\"subset1\")"
      ],
      "execution_count": 0,
      "outputs": []
    },
    {
      "cell_type": "markdown",
      "metadata": {
        "id": "UP-kNKX1r91z",
        "colab_type": "text"
      },
      "source": [
        "## Baseline: Original Scores"
      ]
    },
    {
      "cell_type": "markdown",
      "metadata": {
        "id": "zHEkNDtQfhxM",
        "colab_type": "text"
      },
      "source": [
        "Before proceeding to train our model, let us first evaluate the performance of the original, untransformed scores.\n",
        "Below, we provide functions for evaluating the group-dependent pairwise accuracy and the overall accuracy for given the score differences on pairs of examples."
      ]
    },
    {
      "cell_type": "code",
      "metadata": {
        "id": "0AguGyzDtsPZ",
        "colab_type": "code",
        "colab": {}
      },
      "source": [
        "def group_pairwise_accuracy(prediction_diffs, paired_groups):\n",
        "  \"\"\"Returns the group-dependent pairwise accuracies.\n",
        "  \n",
        "  Returns the group-dependent pairwise accuracies Acc_{G_i > G_j} for each pair \n",
        "  of groups G_i \\in {0, 1} and G_j \\in {0, 1}. \n",
        "  \n",
        "  Args:\n",
        "    prediction_diffs: NumPy array of shape (#num_pairs,) containing the \n",
        "                      differences in scores for each ordered pair of examples.\n",
        "    paired_groups: NumPy array of shape (#num_pairs, 2) containing the protected \n",
        "                   groups for the better and worse example in each pair.\n",
        "                   \n",
        "  Returns:\n",
        "    A NumPy array of shape (2, 2) containing the pairwise accuracies, where the \n",
        "    ij-th entry contains Acc_{G_i > G_j}.\n",
        "  \"\"\"\n",
        "  accuracy_matrix = np.zeros((2, 2))\n",
        "  for group_high in [0, 1]:\n",
        "    for group_low in [0, 1]:\n",
        "      # Predicate for pairs where the better example is from group_high\n",
        "      # and the worse example is from group_low.\n",
        "      predicate = ((paired_groups[:, 0] == group_high) & \n",
        "                   (paired_groups[:, 1] == group_low))\n",
        "      # Parwise accuracy Acc_{group_high > group_low}.\n",
        "      accuracy_matrix[group_high][group_low] = (\n",
        "          np.mean(prediction_diffs[predicate] > 0) + \n",
        "          0.5 * np.mean(prediction_diffs[predicate] == 0))\n",
        "  return accuracy_matrix\n",
        "\n",
        "\n",
        "def overall_pairwise_accuracy(prediction_diffs):\n",
        "  # Returns overall pairwise accuracy for pairwise differences in predictions.\n",
        "  overall_accuracy = (np.mean(prediction_diffs > 0) + \n",
        "                      0.5 * np.mean(prediction_diffs == 0))\n",
        "  return overall_accuracy"
      ],
      "execution_count": 0,
      "outputs": []
    },
    {
      "cell_type": "markdown",
      "metadata": {
        "id": "znx51IQosiLZ",
        "colab_type": "text"
      },
      "source": [
        "We evaluate the performance of ranking with the original scores."
      ]
    },
    {
      "cell_type": "code",
      "metadata": {
        "id": "WJMMM9j1smOC",
        "colab_type": "code",
        "colab": {}
      },
      "source": [
        "prediction_diffs = paired_scores[:, 0] - paired_scores[:, 1]\n",
        "overall_accuracy = overall_pairwise_accuracy(prediction_diffs)\n",
        "print(\"Baseline: Overall pairwise accuracy = %.3f\" % overall_accuracy)\n",
        "\n",
        "pairwise_accuracy = group_pairwise_accuracy(prediction_diffs, paired_groups)\n",
        "print(\"Baseline: Group-dependent pairwise accuracies\"\n",
        "      \"(rows=better, columns=worse)\")\n",
        "pairwise_accuracy_df = pd.DataFrame(\n",
        "    pairwise_accuracy, \n",
        "    columns=[\"Group 0\", \"Group 1\"], \n",
        "    index=[\"Group 0\", \"Group 1\"]).round(decimals=3)\n",
        "print(pairwise_accuracy_df)"
      ],
      "execution_count": 0,
      "outputs": []
    },
    {
      "cell_type": "markdown",
      "metadata": {
        "id": "aXzMDTb1y3uH",
        "colab_type": "text"
      },
      "source": [
        "Note that $Acc_{G0 > G1}$ is significantly higher than $Acc_{G1 > G0}$. This implies that the original scores are more effective in ranking the \"better\" examples from group 0 above the \"worse\" examples from group 1, when compared to ranking the \"better\" examples from group 1 above the worse examples from group 0.\n",
        "\n",
        "In the following, we will seek to remove this discrepancy by learning a monotone function on the scores under pairwise constraints for fairness."
      ]
    },
    {
      "cell_type": "markdown",
      "metadata": {
        "id": "qf9YhLi6YNHk",
        "colab_type": "text"
      },
      "source": [
        "## Proposed Approach: Constrained Optimization\n",
        "\n",
        "We seek to maximize the overall pairwise accuracy subject to the constraint that $Acc_{G1 > G0}$ and $Acc_{G0 > G1}$ can differ by at most 0.01.\n",
        "\n",
        "$$\n",
        "max_f ~~A(f) ~~~~s.t.~~~~ |Acc_{G1 > G0}(f)   ~-~ Acc_{G0 > G1}(f)| ~\\leq~ 0.01\n",
        "$$\n",
        "\n",
        "The constraint that we enforce here is a relaxation of the *cross-group pairwise equal opportunity* criteria in [NCGW19]."
      ]
    },
    {
      "cell_type": "code",
      "metadata": {
        "id": "BVOjVx7zXuKL",
        "colab_type": "code",
        "colab": {}
      },
      "source": [
        "# We set up the constrained optimization problem using the TF constrained \n",
        "# optimization library. \n",
        "\n",
        "# Set up context object for the entire data \n",
        "# (for evaluating performance based on the pairwise prediction differences and \n",
        "# and the target labels).\n",
        "context_overall = tfco.rate_context(prediction_diffs_tensor, \n",
        "                                    target_labels_tensor)\n",
        "# Set up context objects for the subsets: \n",
        "# G0>G1 pairs denoted as subset0 and G1>G0 pairs denoted as subset1.\n",
        "context_subset0 = context_overall.subset(subset0_predicate)\n",
        "context_subset1 = context_overall.subset(subset1_predicate)\n",
        "# The subset predicates will be fed in during training.\n",
        "\n",
        "# Set up the objective and constraints in terms of error rates.\n",
        "# (while the definitions in the notebook used \"accuracy rates\", we will find\n",
        "# it convenient in the implementation to instead use \"error rates\")\n",
        "# The objective is to minimize the error rate on all pairs.\n",
        "objective = tfco.error_rate(context_overall)\n",
        "# Since the target labels are all 1's, minimizing the error rate on the \n",
        "# prediction differences is the same as maximizing overall pairwise accuracy.\n",
        "constraints = [\n",
        "    tfco.error_rate(context_subset0) <= tfco.error_rate(context_subset1) + 0.01,\n",
        "    tfco.error_rate(context_subset1) <= tfco.error_rate(context_subset0) + 0.01]\n",
        "# We constrain the difference between the error rate on the G0>G1 pairs and the\n",
        "# error rate on the G1>G0 pairs to be within 0.01\n",
        "# (this is equivalent to constraining the accuracy rates on the two subsets).\n",
        "\n",
        "# Set up a rate minimization problem.\n",
        "problem = tfco.RateMinimizationProblem(objective, constraints)\n",
        "\n",
        "# Set up the optimizer and get `train_op` for gradient updates.\n",
        "solver = tf.train.AdamOptimizer(learning_rate=0.1)\n",
        "optimizer = tfco.ProxyLagrangianOptimizerV1(optimizer=solver)\n",
        "train_op = optimizer.minimize(problem)"
      ],
      "execution_count": 0,
      "outputs": []
    },
    {
      "cell_type": "markdown",
      "metadata": {
        "id": "DbNQZoSe62jS",
        "colab_type": "text"
      },
      "source": [
        "We are now ready to train our model (this may take a few seconds to run)."
      ]
    },
    {
      "cell_type": "code",
      "metadata": {
        "id": "O7BedJDRZB4E",
        "colab_type": "code",
        "colab": {}
      },
      "source": [
        "# Start TF session and initialize variables.\n",
        "session = tf.Session()\n",
        "tf.set_random_seed(654321)  # Set random seed for reproducibility.\n",
        "session.run(tf.global_variables_initializer())\n",
        "\n",
        "# Dictionary of values to be fed to the placeholder tensors.\n",
        "feed_dict = {\n",
        "    scores_tensor: paired_scores.T.reshape(-1,),\n",
        "    subset0_predicate: (paired_groups[:, 0] == 0) & (paired_groups[:, 1] == 1),\n",
        "    subset1_predicate: (paired_groups[:, 0] == 1) & (paired_groups[:, 1] == 0)\n",
        "}\n",
        "# Scores: As mentioned earlier, we flatten the paired_scores so that the scores \n",
        "# for the higher label (better) examples in the pairs are arranged first, and \n",
        "# those for the lower label (worse) examples in the pairs come next.\n",
        "# Predicates: subset0_predicate select pairs where the better example\n",
        "# is from group 0 and the worse example is from group 1. subset1_predicate \n",
        "# select pairs where the better example is from group 1 and the worse\n",
        "# example is from group 0.\n",
        "\n",
        "# We maintain a list of objectives, constraint violations, predictions and \n",
        "# overall accuracies, and pairwise accuracies during the course of training.\n",
        "objectives = []\n",
        "violations = []\n",
        "predictions = []\n",
        "overall_accuracies = []\n",
        "pairwise_accuracies = []\n",
        "\n",
        "# Perform 250 full gradient updates.\n",
        "for ii in xrange(250):\n",
        "  # Gradient updates.\n",
        "  session.run(train_op, feed_dict=feed_dict)\n",
        "  # Projection step.\n",
        "  session.run(projection_op)\n",
        "  # Checkpoint once in 10 iterations.\n",
        "  if ii % 10 == 0:\n",
        "    # Objective and constraint violations.\n",
        "    objective, violation = session.run(\n",
        "        (problem.objective(), problem.constraints()), feed_dict=feed_dict)\n",
        "    objectives.append(objective)\n",
        "    violations.append(violation)\n",
        "    \n",
        "    # Pairwise prediction differences and overall and group pairwise accuracies.\n",
        "    prediction_diffs = session.run(\n",
        "        prediction_diffs_tensor, \n",
        "        feed_dict={scores_tensor: paired_scores.T.reshape(-1,)}) \n",
        "    # Note that we feed in the \"paired\" scores, flattened to a 1-d array.\n",
        "    overall_acc = overall_pairwise_accuracy(prediction_diffs)\n",
        "    overall_accuracies.append(overall_acc)\n",
        "    pairwise_acc = group_pairwise_accuracy(prediction_diffs, paired_groups)\n",
        "    pairwise_accuracies.append(pairwise_acc)\n",
        "    \n",
        "    # Predictions on individual examples \n",
        "    # (needed later for plotting the trained monotone function).\n",
        "    prediction = session.run(predictions_tensor, \n",
        "                             feed_dict={scores_tensor: scores})\n",
        "    # Note that we feed in the individual scores (not the paired ones).\n",
        "    predictions.append(prediction)\n",
        "    \n",
        "session.close()\n",
        "    \n",
        "# Use the recorded objectives and constraints to find the best iterate.\n",
        "best_iterate = tfco.find_best_candidate_index(np.array(objectives),\n",
        "                                              np.array(violations))\n",
        "\n",
        "print(\"Constrained Opt: Overall pairwise accuracy = %.3f\" \n",
        "      % overall_accuracies[best_iterate])\n",
        "print(\"Constrained Opt: Group-dependent pairwise accuracies\"\n",
        "      \"(rows=better, columns=worse)\")\n",
        "pairwise_accuracies_df = pd.DataFrame(\n",
        "    pairwise_accuracies[best_iterate], \n",
        "    columns=[\"Group 0\", \"Group 1\"], \n",
        "    index=[\"Group 0\", \"Group 1\"]).round(decimals=3)\n",
        "print(pairwise_accuracies_df)"
      ],
      "execution_count": 0,
      "outputs": []
    },
    {
      "cell_type": "markdown",
      "metadata": {
        "id": "SD5bKu1AHf84",
        "colab_type": "text"
      },
      "source": [
        "By imposing explict constraints, we are able to ensure that the cross-group pairwise accuracies are within 0.01 of each other. The trained monotone function achieves this by improving on the accuracy for the $G_1 > G_0$ pairs but at the cost of lowering the accuracy for the $G_0 > G_1$ pairs. The overall accuracy is similar to the original untransformed scores.\n",
        "\n",
        "\n",
        "We plot the learned monotone function $f(x)$ as a function of the scores $x$ and as a function of the ground-truth labels $y$."
      ]
    },
    {
      "cell_type": "code",
      "metadata": {
        "id": "5SJgJAjoaevF",
        "colab_type": "code",
        "colab": {}
      },
      "source": [
        "ff, ax = plt.subplots(1, 2, figsize=(10, 5))\n",
        "plot_scores(scores, predictions[best_iterate], groups, ax[0], \n",
        "            \"Scores\", \"Predictions\")\n",
        "plot_scores(labels, predictions[best_iterate], groups, ax[1], \n",
        "            \"Labels\", \"Predictions\")\n",
        "ff.tight_layout()"
      ],
      "execution_count": 0,
      "outputs": []
    },
    {
      "cell_type": "markdown",
      "metadata": {
        "id": "XOpkD9_3I9uR",
        "colab_type": "text"
      },
      "source": [
        "The monotone function flattens out portions of the scores in the middle range $[0.2, 0.8]$ (here the scores are noisy for group 1). This has the effect of introducing ties among the examples in this region, and thus improving the value of $Acc_{G_1 > G0}$, while lowering the $Acc_{G_0 > G1}$ value."
      ]
    }
  ]
}