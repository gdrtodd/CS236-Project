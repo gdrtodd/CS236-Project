{
 "cells": [
  {
   "cell_type": "markdown",
   "metadata": {
    "colab_type": "text",
    "id": "yiRapgzcWXQw"
   },
   "source": [
    "##### Copyright 2018 Google LLC.\n",
    "\n",
    "Licensed under the Apache License, Version 2.0 (the \"License\");"
   ]
  },
  {
   "cell_type": "code",
   "execution_count": 0,
   "metadata": {
    "colab": {},
    "colab_type": "code",
    "id": "6AT9joAUCbDn"
   },
   "outputs": [],
   "source": [
    "# Licensed under the Apache License, Version 2.0 (the \"License\");\n",
    "# you may not use this file except in compliance with the License.\n",
    "# You may obtain a copy of the License at\n",
    "#\n",
    "# https://www.apache.org/licenses/LICENSE-2.0\n",
    "#\n",
    "# Unless required by applicable law or agreed to in writing, software\n",
    "# distributed under the License is distributed on an \"AS IS\" BASIS,\n",
    "# WITHOUT WARRANTIES OR CONDITIONS OF ANY KIND, either express or implied.\n",
    "# See the License for the specific language governing permissions and\n",
    "# limitations under the License."
   ]
  },
  {
   "cell_type": "markdown",
   "metadata": {
    "colab_type": "text",
    "id": "cIIzyWYXKT_R"
   },
   "source": [
    "# Sufficient Input Subsets Tutorial on MNIST\n",
    "\n",
    "Sufficient Input Subsets (SIS for short) is a local explanation framework interpreting black-box functions.\n",
    "A sufficient input subset is a minimal set of input features whose observed values alone suffice for the same decision to\n",
    "be reached, even with all other input values missing. These subsets can be understood as rationales for a model's decision-making.\n",
    "See the [SIS paper](https://arxiv.org/abs/1810.03805) for more details.\n",
    "\n",
    "This notebook gives a simple example for using SIS in practice.\n",
    "In this tutorial we:\n",
    "\n",
    "* Train a CNN to classify MNIST handwritten digits\n",
    "* Apply SIS to produce explanations for the model's decisions\n",
    "* Apply SIS to misclassified digits, to understand why the model made certain misclassifications"
   ]
  },
  {
   "cell_type": "markdown",
   "metadata": {
    "colab_type": "text",
    "id": "9JkZisP3TJjD"
   },
   "source": [
    "We recommend running this notebook in [Colaboratory](https://colab.research.google.com).\n",
    "You can open it directly [here](https://colab.research.google.com/github/google-research/google-research/blob/master/sufficient_input_subsets/tutorials/sis_mnist_tutorial.ipynb)."
   ]
  },
  {
   "cell_type": "code",
   "execution_count": 0,
   "metadata": {
    "colab": {},
    "colab_type": "code",
    "id": "LGAhNZX0T_Ke"
   },
   "outputs": [],
   "source": [
    "# If you run this notebook in Colaboratory, you can uncomment the lines below\n",
    "# and run this cell to clone the SIS library without any further installation.\n",
    "\n",
    "# !git clone https://github.com/google-research/google-research.git\n",
    "# %cd google-research"
   ]
  },
  {
   "cell_type": "code",
   "execution_count": 0,
   "metadata": {
    "colab": {},
    "colab_type": "code",
    "id": "rC3GlnQwKgZb"
   },
   "outputs": [],
   "source": [
    "from __future__ import print_function\n",
    "\n",
    "import tensorflow as tf\n",
    "import matplotlib.pyplot as plt\n",
    "import numpy as np\n",
    "\n",
    "from sufficient_input_subsets import sis"
   ]
  },
  {
   "cell_type": "markdown",
   "metadata": {
    "colab_type": "text",
    "id": "DlMgpBIHKoap"
   },
   "source": [
    "# Download MNIST"
   ]
  },
  {
   "cell_type": "code",
   "execution_count": 0,
   "metadata": {
    "colab": {},
    "colab_type": "code",
    "id": "IR_UIHW-Kp0b"
   },
   "outputs": [],
   "source": [
    "# Load MNIST and convert from integers to floats.\n",
    "\n",
    "mnist = tf.keras.datasets.mnist\n",
    "\n",
    "(x_train, y_train), (x_test, y_test) = mnist.load_data()\n",
    "x_train, x_test = x_train / 255.0, x_test / 255.0\n",
    "x_train = np.expand_dims(x_train, axis=-1)\n",
    "x_test = np.expand_dims(x_test, axis=-1)"
   ]
  },
  {
   "cell_type": "code",
   "execution_count": 0,
   "metadata": {
    "colab": {
     "height": 111
    },
    "colab_type": "code",
    "id": "mwlrsL1PN48u",
    "outputId": "ec31d6df-8c8f-4c5b-f2f7-4a11edc41bb8"
   },
   "outputs": [
    {
     "data": {
      "image/png": "[encoded data removed]",
      "text/plain": [
       "<matplotlib.figure.Figure at 0x7fa6aea3b1d0>"
      ]
     },
     "metadata": {
      "tags": []
     },
     "output_type": "display_data"
    }
   ],
   "source": [
    "# Visualize an example digit.\n",
    "\n",
    "image = x_train[0]\n",
    "\n",
    "plt.figure(figsize=(1, 1))\n",
    "plt.imshow(image[:, :, 0], cmap=plt.get_cmap('gray'))\n",
    "plt.axis('off')\n",
    "plt.show()"
   ]
  },
  {
   "cell_type": "markdown",
   "metadata": {
    "colab_type": "text",
    "id": "ROdUa2s6KrRh"
   },
   "source": [
    "# Train an MNIST Digit Classifier"
   ]
  },
  {
   "cell_type": "markdown",
   "metadata": {
    "colab_type": "text",
    "id": "BRraBRCQb5Bs"
   },
   "source": [
    "We train a simple convolutional neural network (CNN) (taken from the Keras MNIST CNN\n",
    "[example](https://github.com/keras-team/keras/blob/master/examples/mnist_cnn.py)) to classify MNIST\n",
    "handwritten digits"
   ]
  },
  {
   "cell_type": "code",
   "execution_count": 0,
   "metadata": {
    "colab": {},
    "colab_type": "code",
    "id": "ruzDwAK7Ktcr"
   },
   "outputs": [],
   "source": [
    "model = tf.keras.models.Sequential([\n",
    "    tf.keras.layers.Conv2D(32, kernel_size=(3, 3), activation='relu',\n",
    "                           input_shape=(28, 28, 1),\n",
    "                           data_format='channels_last'),\n",
    "    tf.keras.layers.Conv2D(64, kernel_size=(3, 3), activation='relu'),\n",
    "    tf.keras.layers.MaxPooling2D(pool_size=(2, 2)),\n",
    "    tf.keras.layers.Dropout(0.25),\n",
    "    tf.keras.layers.Flatten(),\n",
    "    tf.keras.layers.Dense(128, activation='relu'),\n",
    "    tf.keras.layers.Dropout(0.5),\n",
    "    tf.keras.layers.Dense(10, activation='softmax')\n",
    "])\n",
    "\n",
    "model.compile(optimizer='adam',\n",
    "              loss='sparse_categorical_crossentropy',\n",
    "              metrics=['accuracy'])"
   ]
  },
  {
   "cell_type": "code",
   "execution_count": 0,
   "metadata": {
    "colab": {
     "height": 225
    },
    "colab_type": "code",
    "id": "Dn3OPA8tNuTk",
    "outputId": "2ccd96be-7ad3-498a-efe5-96bd2bbbca6c"
   },
   "outputs": [
    {
     "name": "stdout",
     "output_type": "stream",
     "text": [
      "Epoch 1/5\n",
      "60000/60000 [==============================] - 7s 110us/step - loss: 0.1847 - acc: 0.9445\n",
      "Epoch 2/5\n",
      "60000/60000 [==============================] - 7s 110us/step - loss: 0.0796 - acc: 0.9763\n",
      "Epoch 3/5\n",
      "60000/60000 [==============================] - 7s 115us/step - loss: 0.0586 - acc: 0.9822\n",
      "Epoch 4/5\n",
      "60000/60000 [==============================] - 7s 120us/step - loss: 0.0499 - acc: 0.9842\n",
      "Epoch 5/5\n",
      "60000/60000 [==============================] - 7s 116us/step - loss: 0.0405 - acc: 0.9876\n",
      "10000/10000 [==============================] - 0s 41us/step - loss: 0.0312 - acc: 0.9909\n"
     ]
    },
    {
     "data": {
      "text/plain": [
       "[0.031191634417892054, 0.99089998]"
      ]
     },
     "execution_count": 0,
     "metadata": {
      "tags": []
     },
     "output_type": "execute_result"
    }
   ],
   "source": [
    "# Train and evaluate model.\n",
    "\n",
    "model.fit(x_train, y_train, epochs=5)\n",
    "\n",
    "model.evaluate(x_test, y_test)"
   ]
  },
  {
   "cell_type": "markdown",
   "metadata": {
    "colab_type": "text",
    "id": "09M0TQMmKv8o"
   },
   "source": [
    "# Run SIS to Produce Explanations"
   ]
  },
  {
   "cell_type": "markdown",
   "metadata": {
    "colab_type": "text",
    "id": "tEi4UOY3qpnd"
   },
   "source": [
    "We now apply SIS to understand the model's decisions on particular examples of digit 4. First, we will find images from the test set which the model classifies as 4 with high confidence. Then, we will compute and visualize the SIS-collection for some of these images.\n",
    "\n",
    "By default, we follow the SIS paper and use a threshold of 0.7 ($\\tau = 0.7$) and mask pixels by\n",
    "replacement with the mean pixel taken over the training images.\n",
    "\n",
    "Feel free to explore different values of these parameters and observe the effects on the SIS!\n",
    "\n",
    "\n"
   ]
  },
  {
   "cell_type": "code",
   "execution_count": 0,
   "metadata": {
    "cellView": "both",
    "colab": {
     "height": 481
    },
    "colab_type": "code",
    "id": "AP1d9dDF8zIj",
    "outputId": "48d94117-305d-48aa-eda3-029099cd52d7"
   },
   "outputs": [
    {
     "name": "stdout",
     "output_type": "stream",
     "text": [
      "Running SIS on 5 examples of digit 4. This might take a couple minutes.\n"
     ]
    },
    {
     "data": {
      "image/png": "[encoded data removed]",
      "text/plain": [
       "<matplotlib.figure.Figure at 0x7fa60faa2c50>"
      ]
     },
     "metadata": {
      "tags": []
     },
     "output_type": "display_data"
    },
    {
     "data": {
      "image/png": "[encoded data removed]",
      "text/plain": [
       "<matplotlib.figure.Figure at 0x7fa60fabb650>"
      ]
     },
     "metadata": {
      "tags": []
     },
     "output_type": "display_data"
    },
    {
     "data": {
      "image/png": "[encoded data removed]",
      "text/plain": [
       "<matplotlib.figure.Figure at 0x7fa60f069310>"
      ]
     },
     "metadata": {
      "tags": []
     },
     "output_type": "display_data"
    },
    {
     "data": {
      "image/png": "[encoded data removed]",
      "text/plain": [
       "<matplotlib.figure.Figure at 0x7fa60eccc510>"
      ]
     },
     "metadata": {
      "tags": []
     },
     "output_type": "display_data"
    },
    {
     "data": {
      "image/png": "[encoded data removed]",
      "text/plain": [
       "<matplotlib.figure.Figure at 0x7fa60e14d310>"
      ]
     },
     "metadata": {
      "tags": []
     },
     "output_type": "display_data"
    }
   ],
   "source": [
    "#@title Select a digit and threshold {run: \"auto\"}\n",
    "\n",
    "DIGIT = 4  #@param ['0', 1', '2', '3', '4', '5', '6', '7', '8', '9'] {type:\"raw\"}\n",
    "\n",
    "THRESHOLD = 0.7  #@param {type:\"slider\", min:0, max:1, step:0.1}\n",
    "\n",
    "# Following the SIS paper, we use the mean pixel from training images as a mask.\n",
    "FULLY_MASKED_IMAGE = np.full((28, 28, 1), np.mean(x_train))\n",
    "\n",
    "# Helper function that selects the probability for a single class, from the\n",
    "# softmax output.\n",
    "def make_f_for_digit(digit, model):\n",
    "    def f_digit(batch_of_inputs):\n",
    "        return model.predict(\n",
    "            batch_of_inputs,\n",
    "            batch_size=min(784, len(batch_of_inputs)))[:, digit]\n",
    "    return f_digit\n",
    "\n",
    "# This function maps a list of images to a list of probabilities (probability of\n",
    "# each image being a 4).\n",
    "f_digit = make_f_for_digit(DIGIT, model)\n",
    "\n",
    "# Helper function that filters input images to those the model predicts with\n",
    "# high confidence (f(image) >= threshold).\n",
    "def select_images_for_sis(inputs, f_digit, threshold):\n",
    "    preds = f_digit(inputs)\n",
    "    idxs = np.nonzero(preds >= threshold)[0]\n",
    "    return inputs[idxs]\n",
    "\n",
    "# Filter test images that the model classifies as 4 with high confidence.\n",
    "high_confidence_images_for_digit = select_images_for_sis(x_test, f_digit,\n",
    "                                                         THRESHOLD)\n",
    "\n",
    "# Randomly select some of these digits to run SIS.\n",
    "digits_to_run_sis = high_confidence_images_for_digit[\n",
    "    np.random.choice(high_confidence_images_for_digit.shape[0],\n",
    "                     size=5,\n",
    "                     replace=False)]\n",
    "\n",
    "# Helpers for plotting an MNIST digit and its corresponding SIS-collection.\n",
    "def plot_mnist_digit(ax, image):\n",
    "    ax.imshow(image[:, :, 0], cmap=plt.get_cmap('gray'))\n",
    "    ax.axis('off')\n",
    "\n",
    "def plot_sis_collection(initial_image, collection, fully_masked_image):\n",
    "    # Grid contains initial image, an empty cell (for spacing), and collection.\n",
    "    width = len(collection) + 2\n",
    "    plt.figure(figsize=(width, 1))\n",
    "    gs = plt.GridSpec(1, width, wspace=0.1)\n",
    "\n",
    "    # Plot initial image.\n",
    "    ax = plt.subplot(gs[0])\n",
    "    plot_mnist_digit(ax, initial_image)\n",
    "\n",
    "    # Plot each SIS.\n",
    "    for i, sis_result in enumerate(collection):\n",
    "        ax = plt.subplot(gs[i+2])\n",
    "        masked_image = sis.produce_masked_inputs(\n",
    "            initial_image, fully_masked_image, [sis_result.mask])[0]\n",
    "        plot_mnist_digit(ax, masked_image)\n",
    "\n",
    "    plt.show()\n",
    "\n",
    "print('Running SIS on {} examples of digit {}. '\n",
    "      'This might take a couple minutes.'.format(len(digits_to_run_sis), DIGIT))\n",
    "\n",
    "# Run SIS on each digit and visualize the resulting SIS-collections.\n",
    "for initial_image in digits_to_run_sis:\n",
    "    collection = sis.sis_collection(f_digit, THRESHOLD, initial_image,\n",
    "                                    FULLY_MASKED_IMAGE)\n",
    "    plot_sis_collection(initial_image, collection, FULLY_MASKED_IMAGE)"
   ]
  },
  {
   "cell_type": "markdown",
   "metadata": {
    "colab_type": "text",
    "id": "DEusIBM5qx2V"
   },
   "source": [
    "# Using SIS to Understand Misclassifications"
   ]
  },
  {
   "cell_type": "markdown",
   "metadata": {
    "colab_type": "text",
    "id": "tR3AXUpHLh8n"
   },
   "source": [
    "We now explore how SIS can be used to understand misclassifications.\n",
    "\n",
    "First, we will search for images from the test set (of any class) which the CNN misclassifies with high confidence. Then, we will compute and print the corresponding SIS-collections for some of these images to see the rationales to better understand why the model made these misclassifications."
   ]
  },
  {
   "cell_type": "code",
   "execution_count": 0,
   "metadata": {
    "cellView": "both",
    "colab": {
     "height": 1297
    },
    "colab_type": "code",
    "id": "WPn918BoqzY3",
    "outputId": "3af16722-d01d-4834-c1cf-9bdc40b220eb"
   },
   "outputs": [
    {
     "name": "stdout",
     "output_type": "stream",
     "text": [
      "Running SIS on 10 misclassified digits. This might take a couple minutes.\n",
      "\n",
      "True label:     5\n",
      "Classified as:  3\n"
     ]
    },
    {
     "data": {
      "image/png": "[encoded data removed]",
      "text/plain": [
       "<matplotlib.figure.Figure at 0x7fa60aa4d7d0>"
      ]
     },
     "metadata": {
      "tags": []
     },
     "output_type": "display_data"
    },
    {
     "name": "stdout",
     "output_type": "stream",
     "text": [
      "True label:     4\n",
      "Classified as:  6\n"
     ]
    },
    {
     "data": {
      "image/png": "[encoded data removed]",
      "text/plain": [
       "<matplotlib.figure.Figure at 0x7fa60d39d810>"
      ]
     },
     "metadata": {
      "tags": []
     },
     "output_type": "display_data"
    },
    {
     "name": "stdout",
     "output_type": "stream",
     "text": [
      "True label:     8\n",
      "Classified as:  0\n"
     ]
    },
    {
     "data": {
      "image/png": "[encoded data removed]",
      "text/plain": [
       "<matplotlib.figure.Figure at 0x7fa60b273d90>"
      ]
     },
     "metadata": {
      "tags": []
     },
     "output_type": "display_data"
    },
    {
     "name": "stdout",
     "output_type": "stream",
     "text": [
      "True label:     7\n",
      "Classified as:  3\n"
     ]
    },
    {
     "data": {
      "image/png": "[encoded data removed]",
      "text/plain": [
       "<matplotlib.figure.Figure at 0x7fa60b8a91d0>"
      ]
     },
     "metadata": {
      "tags": []
     },
     "output_type": "display_data"
    },
    {
     "name": "stdout",
     "output_type": "stream",
     "text": [
      "True label:     1\n",
      "Classified as:  6\n"
     ]
    },
    {
     "data": {
      "image/png": "[encoded data removed]",
      "text/plain": [
       "<matplotlib.figure.Figure at 0x7fa60dc2a1d0>"
      ]
     },
     "metadata": {
      "tags": []
     },
     "output_type": "display_data"
    },
    {
     "name": "stdout",
     "output_type": "stream",
     "text": [
      "True label:     9\n",
      "Classified as:  8\n"
     ]
    },
    {
     "data": {
      "image/png": "[encoded data removed]",
      "text/plain": [
       "<matplotlib.figure.Figure at 0x7fa60ca9d290>"
      ]
     },
     "metadata": {
      "tags": []
     },
     "output_type": "display_data"
    },
    {
     "name": "stdout",
     "output_type": "stream",
     "text": [
      "True label:     4\n",
      "Classified as:  9\n"
     ]
    },
    {
     "data": {
      "image/png": "[encoded data removed]",
      "text/plain": [
       "<matplotlib.figure.Figure at 0x7fa613afdb90>"
      ]
     },
     "metadata": {
      "tags": []
     },
     "output_type": "display_data"
    },
    {
     "name": "stdout",
     "output_type": "stream",
     "text": [
      "True label:     4\n",
      "Classified as:  8\n"
     ]
    },
    {
     "data": {
      "image/png": "[encoded data removed]",
      "text/plain": [
       "<matplotlib.figure.Figure at 0x7fa60e091790>"
      ]
     },
     "metadata": {
      "tags": []
     },
     "output_type": "display_data"
    },
    {
     "name": "stdout",
     "output_type": "stream",
     "text": [
      "True label:     6\n",
      "Classified as:  4\n"
     ]
    },
    {
     "data": {
      "image/png": "[encoded data removed]",
      "text/plain": [
       "<matplotlib.figure.Figure at 0x7fa60f09f850>"
      ]
     },
     "metadata": {
      "tags": []
     },
     "output_type": "display_data"
    },
    {
     "name": "stdout",
     "output_type": "stream",
     "text": [
      "True label:     7\n",
      "Classified as:  3\n"
     ]
    },
    {
     "data": {
      "image/png": "[encoded data removed]",
      "text/plain": [
       "<matplotlib.figure.Figure at 0x7fa6125a3f10>"
      ]
     },
     "metadata": {
      "tags": []
     },
     "output_type": "display_data"
    }
   ],
   "source": [
    "#@title Choose number of misclassified digits and threshold {run: \"auto\"}\n",
    "\n",
    "NUM_MISCLASSIFIED = 10  #@param {type:\"integer\"}\n",
    "\n",
    "THRESHOLD = 0.7  #@param {type:\"slider\", min:0, max:1, step:0.1}\n",
    "\n",
    "# Find images the model misclassifies with high confidence.\n",
    "y_test_preds = model.predict(x_test)\n",
    "y_test_classes = y_test_preds.argmax(axis=1)\n",
    "\n",
    "misclassified_idxs = np.nonzero(y_test != y_test_classes)[0]\n",
    "misclassified_confidences = y_test_preds[misclassified_idxs].max(axis=1)\n",
    "\n",
    "misclassified_with_high_confidence_idxs = misclassified_idxs[\n",
    "    np.nonzero(misclassified_confidences >= THRESHOLD)[0]]\n",
    "\n",
    "print('Running SIS on {} misclassified digits. '\n",
    "      'This might take a couple minutes.\\n'.format(NUM_MISCLASSIFIED))\n",
    "\n",
    "# Randomly select some misclassificiations to run SIS.\n",
    "misclassified_idxs_to_run_sis = misclassified_with_high_confidence_idxs[\n",
    "    np.random.choice(\n",
    "        misclassified_with_high_confidence_idxs.shape[0],\n",
    "        size=NUM_MISCLASSIFIED,\n",
    "        replace=False)]\n",
    "\n",
    "# Run SIS on these images and visualize the corresponding SIS-collections.\n",
    "for idx in misclassified_idxs_to_run_sis:\n",
    "    initial_image = x_test[idx]\n",
    "\n",
    "    true_label = y_test[idx]\n",
    "    predicted_label = y_test_classes[idx]\n",
    "\n",
    "    print('True label:    ', true_label)\n",
    "    print('Classified as: ', predicted_label)\n",
    "\n",
    "    f_predicted_label = make_f_for_digit(predicted_label, model)\n",
    "    collection = sis.sis_collection(f_predicted_label, THRESHOLD, initial_image,\n",
    "                                    FULLY_MASKED_IMAGE)\n",
    "\n",
    "    plot_sis_collection(initial_image, collection, FULLY_MASKED_IMAGE)"
   ]
  },
  {
   "cell_type": "markdown",
   "metadata": {
    "colab_type": "text",
    "id": "gCI352f7RPyF"
   },
   "source": [
    "These images allow us to understand ***why*** the model made these misclassifications!"
   ]
  }
 ],
 "metadata": {
  "accelerator": "TPU",
  "colab": {
   "collapsed_sections": [
    "yiRapgzcWXQw"
   ],
   "name": "sis_mnist_tutorial.ipynb",
   "version": "0.3.2"
  },
  "kernelspec": {
   "display_name": "Python 2",
   "name": "python2"
  }
 },
 "nbformat": 4,
 "nbformat_minor": 0
}
