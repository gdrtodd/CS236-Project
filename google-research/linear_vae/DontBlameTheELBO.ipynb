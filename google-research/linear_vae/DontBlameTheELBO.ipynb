{
  "nbformat": 4,
  "nbformat_minor": 0,
  "metadata": {
    "colab": {
      "name": "DontBlameTheELBO.ipynb",
      "provenance": [],
      "collapsed_sections": []
    },
    "kernelspec": {
      "name": "python3",
      "display_name": "Python 3"
    },
    "accelerator": "GPU"
  },
  "cells": [
    {
      "cell_type": "markdown",
      "metadata": {
        "id": "MhWvn9RtrOZQ",
        "colab_type": "text"
      },
      "source": [
        "Copyright 2019 Google LLC.\n",
        "\n",
        "Licensed under the Apache License, Version 2.0 (the \"License\");"
      ]
    },
    {
      "cell_type": "markdown",
      "metadata": {
        "id": "OcoAHDwJOrOQ",
        "colab_type": "text"
      },
      "source": [
        "# The Linear VAE\n",
        "\n",
        "### The model:\n",
        "\n",
        "$\n",
        "\\newcommand{\\bz}{\\mathbf{z}}\n",
        "\\newcommand{\\bx}{\\mathbf{x}}\n",
        "\\newcommand{\\bu}{\\mathbf{u}}\n",
        "\\newcommand{\\bI}{\\mathbf{I}}\n",
        "\\newcommand{\\bW}{\\mathbf{W}}\n",
        "\\newcommand{\\bD}{\\mathbf{D}}\n",
        "\\newcommand{\\bC}{\\mathbf{C}}\n",
        "\\newcommand{\\bS}{\\mathbf{S}}\n",
        "\\newcommand{\\bV}{\\mathbf{V}}\n",
        "\\newcommand{\\bL}{\\mathbf{L}}\n",
        "\\newcommand{\\bU}{\\mathbf{U}}\n",
        "\\newcommand{\\bR}{\\mathbf{R}}\n",
        "\\newcommand{\\bLambda}{\\boldsymbol{\\Lambda}}\n",
        "\\newcommand{\\bmu}{\\boldsymbol{\\mu}}\n",
        "\\newcommand{\\cN}{\\mathcal{N}}\n",
        "\\newcommand{\\reals}{\\mathbb{R}}\n",
        "\\newcommand{\\expect}{\\mathbb{E}}\n",
        "$\n",
        "Suppose $\\bz \\in \\reals^q$ generates $\\bx \\in \\reals^d$. We use a standard Gaussian prior:\n",
        "\n",
        "\n",
        "$$p(\\bz) = \\cN(\\mathbf{0},\\bI)$$\n",
        "\n",
        "And define a linear generative model from the latent space with a Gaussian observation model.\n",
        "\n",
        "$$p(\\bx|\\bz) = \\cN( \\bW \\bz + \\bmu, \\sigma^2 \\bI)$$\n",
        "\n",
        "This model is known as [Probabilistic PCA (pPCA)](http://www.robots.ox.ac.uk/~cvrg/hilary2006/ppca.pdf). A linear VAE can be used to maximize the likelihood of pPCA.\n",
        "\n",
        "### Optimal pPCA MLE parameters\n",
        "\n",
        "The maximum likelihood estimate of $\\bmu$ is the mean of the data. We can compute $\\bW_{MLE}$ and $\\sigma^2_{MLE}$ as follows:\n",
        "\n",
        "$$\\bW_{MLE} = \\bU_{q}(\\bLambda_q - \\sigma^2 \\bI)^{1/2}\\bR,\\\\\n",
        "\\sigma^2_{MLE} = \\frac{1}{n - q} \\sum_{j=q+1}^{n}\\lambda_j$$\n",
        "\n",
        "Here $\\bU_q$ corresponds to the first $q$ principal components of the data with the corresponding eigenvalues $\\lambda_1, \\ldots, \\lambda_q$ stored in the $q\\times q$ matrix $\\bLambda_q$. The matrix $\\bR$ is an arbitrary rotation matrix which accounts for weak identifiability in the model. The MLE for $\\sigma^2$ corresponds to the average variance lost in the projection.\n",
        "\n",
        "## Learning pPCA with a Linear VAE\n",
        "\n",
        "We will aim to learn a variational distribution $q(\\bz|\\bx)$ to approximate the posterior $p(\\bz|\\bx)$. The variational bound is characterized as follows:\n",
        "\n",
        "$$\n",
        "\\log p(\\bx) = D_{KL}(q(\\bz|\\bx)||p(\\bz|\\bx)) + \\expect_{q(\\bz|\\bx)}[−\\log q(\\bz|\\bx) + \\log p(\\bx,\\bz)], \\\\\n",
        "\\Rightarrow \\log p(\\bx)  \\geq \\expect_{q(\\bz|\\bx)}[−\\log q(\\bz|\\bx) + \\log p(\\bx,\\bz)], \\\\\n",
        "= −D_{KL}(q(\\bz|\\bx)||p(\\bz)) + \\expect_{q(\\bz|\\bx)}[\\log p(\\bx|\\bz)] \\qquad (:= ELBO)\n",
        "$$\n",
        "\n",
        "Let us fix an amortized, linear Gaussian variational distribution:\n",
        "\n",
        "$$q(z|x) = \\cN(\\bV(\\bx - \\bmu), \\text{diag}(\\sigma^2_1, \\ldots, \\sigma^2_q))$$\n",
        "\n",
        "We use a diagonal covariance matrix (denoted $\\bD$ later) which is shared across all data points. We show in our paper that this is sufficient to represent the true posterior distribution. Thus, the linear VAE corresponds exactly to fitting a pPCA model with variational inference.\n",
        "\n",
        "### Exact ELBO computation \n",
        "\n",
        "The ELBO is made up of two components, the prior KL divergence (i), $KL(q(\\bz|\\bx)||p(\\bz))$ and the reconstruction loss (ii), $\\expect_{q(\\bz|\\bx)}[\\log p(\\bx|\\bz)]$.\n",
        "\n",
        "Because everything is Gaussian, we can compute these terms in closed-form.\n",
        "\n",
        "(i): $KL(q(\\bz|\\bx)||p(\\bz)) = 0.5(tr(\\bD) -\\log\\det(\\bD) + (\\bx-\\bmu)\\bV^T\\bV(\\bx - \\bmu) - q)$\n",
        "\n",
        "(ii): $\\expect_{q(\\bz|\\bx)}\\left[ \\log p(\\bx|\\bz) \\right] = \\frac{1}{2\\sigma^2} [ -tr(\\bW\\bD\\bW^T) - (\\bx - \\bmu)^T\\bV^T\\bW^T\\bW\\bV(\\bx-\\bmu) + 2(\\bx - \\bmu)^T\\bW\\bV(\\bx-\\bmu) - (\\bx - \\bmu)^T(\\bx - \\bmu)] - \\frac{d}{2}\\log 2\\pi\\sigma^2$\n",
        "\n",
        "Thus, we can train the linear VAE using exact gradients to validate the theoretical results presented in our paper."
      ]
    },
    {
      "cell_type": "code",
      "metadata": {
        "id": "c-RergnbOpqp",
        "colab_type": "code",
        "colab": {}
      },
      "source": [
        "%tensorflow_version 1.x\n",
        "import tensorflow as tf\n",
        "from tensorflow.data import Dataset\n",
        "import tensorflow_datasets as tfds\n",
        "\n",
        "import numpy as np\n",
        "import matplotlib as mpl\n",
        "import matplotlib.pyplot as plt\n",
        "\n",
        "_LOG_2PI = np.log(2 * np.pi)"
      ],
      "execution_count": 0,
      "outputs": []
    },
    {
      "cell_type": "markdown",
      "metadata": {
        "id": "XL6pGaQ5O-HQ",
        "colab_type": "text"
      },
      "source": [
        "## Data loading utilities"
      ]
    },
    {
      "cell_type": "code",
      "metadata": {
        "id": "yPg6mvZLOwLt",
        "colab_type": "code",
        "colab": {}
      },
      "source": [
        "def load_mnist_data(take):\n",
        "  '''Load a subset of the MNIST dataset, repeated.\n",
        "\n",
        "  Args:\n",
        "    take: The amount of training data to take.\n",
        "  \n",
        "  Returns:\n",
        "    A shuffled subset of the MNIST training dataset.\n",
        "  '''\n",
        "  mnist_builder = tfds.builder(\"mnist\")\n",
        "  mnist_info = mnist_builder.info\n",
        "  mnist_builder.download_and_prepare()\n",
        "  datasets = mnist_builder.as_dataset()\n",
        "  train_dataset = datasets['train']\n",
        "  train_dataset = train_dataset.take(take).map(\n",
        "      lambda x : tf.reshape(tf.cast(x['image'], tf.float32) / 255.0, [-1]))\n",
        "  return train_dataset\n"
      ],
      "execution_count": 0,
      "outputs": []
    },
    {
      "cell_type": "markdown",
      "metadata": {
        "id": "GkTPHP-DPDB9",
        "colab_type": "text"
      },
      "source": [
        "## Linear VAE"
      ]
    },
    {
      "cell_type": "code",
      "metadata": {
        "id": "znbhLJqhPBFZ",
        "colab_type": "code",
        "colab": {}
      },
      "source": [
        "class LinearVAEConfig(object):\n",
        "  \"\"\"Config class for the Linear VAE.\n",
        "\n",
        "  Args:\n",
        "    input_dim: Number of input dimensions (default: 784)\n",
        "    hidden_dim: Number of hidden dimensions (default: 20)\n",
        "    trainable_sigma: Whether observation noise should be learned (default: True)\n",
        "    sigma_init: Initial value of sigma^2 (default: None)\n",
        "    stochastic_ELBO: Use stochastic ELBO estimation (default: False)\n",
        "  \"\"\"\n",
        "\n",
        "  def __init__(self,\n",
        "               input_dim=784,\n",
        "               hidden_dim=20,\n",
        "               trainable_sigma=True,\n",
        "               sigma_init=None,\n",
        "               stochastic_ELBO=False):\n",
        "    self.input_dim = input_dim\n",
        "    self.hidden_dim = hidden_dim\n",
        "    self.trainable_sigma = trainable_sigma\n",
        "    self.sigma_init = sigma_init\n",
        "    self.stochastic_ELBO = stochastic_ELBO\n",
        "\n",
        "class LinearVAE(object):\n",
        "  \"\"\"Linear VAE\n",
        "  \n",
        "  Allows for the reconstruction error to be computed analytically or via\n",
        "  single-sample stochastic estimation.\n",
        "  \"\"\"\n",
        "\n",
        "  def __init__(self, input_tensor, config=LinearVAEConfig()):\n",
        "    self._config = config\n",
        "    self.input_tensor = input_tensor\n",
        "\n",
        "    self.z_logvar = tf.get_variable(\n",
        "        'logvars', shape=(config.hidden_dim), trainable=True)\n",
        "    self.expanded_z_logvar = tf.expand_dims(self.z_logvar, 0)\n",
        "\n",
        "    self.enc_weight = tf.get_variable(\n",
        "        'enc_weight',\n",
        "        shape=(config.input_dim, config.hidden_dim),\n",
        "        trainable=True)\n",
        "    self.mean = tf.get_variable(\n",
        "        'mean', shape=(config.input_dim), trainable=True)\n",
        "    self.dec_weight = tf.get_variable(\n",
        "        'dec_weight',\n",
        "        shape=(config.hidden_dim, config.input_dim),\n",
        "        trainable=True)\n",
        "    if self._config.sigma_init is not None:\n",
        "      sigma_init = tf.constant_initializer(np.log(self._config.sigma_init))\n",
        "    else:\n",
        "      sigma_init = None\n",
        "    self.log_sigma_sq = tf.get_variable(\n",
        "        'log_sigma',\n",
        "        shape=(),\n",
        "        initializer=sigma_init,\n",
        "        trainable=self._config.trainable_sigma)\n",
        "    self.sigma_sq = tf.exp(self.log_sigma_sq)\n",
        "\n",
        "    self.z_mean = tf.matmul(self.input_tensor - self.mean, self.enc_weight)\n",
        "    if self._config.stochastic_ELBO:\n",
        "      eps = tf.random_normal(\n",
        "        (tf.shape(self.input_tensor)[0], self._config.hidden_dim),\n",
        "        mean=0.0,\n",
        "        stddev=1.0,\n",
        "        dtype=tf.float32)\n",
        "      self.z_sample = self.z_mean + eps * tf.exp(0.5 * self.expanded_z_logvar)\n",
        "\n",
        "      with tf.variable_scope('decoder') as dec_scope:\n",
        "        self.reconstruction = tf.matmul(self.z_sample, self.dec_weight)\n",
        "\n",
        "    ## Loss\n",
        "    with tf.name_scope('losses'):\n",
        "      # Reconstruction loss under recognition model\n",
        "      if self._config.stochastic_ELBO:\n",
        "        self.recon_loss = self.stochastic_recon(self.input_tensor,\n",
        "                                                self.reconstruction)\n",
        "      else:\n",
        "        self.recon_loss = self.analytic_recon(self.input_tensor)\n",
        "\n",
        "      # KL Divergence to Gaussian prior in latent space\n",
        "      # We assume prior mean of 0.0 and standard deviation of 1.0\n",
        "      kl = self.gaussian_kl_divergence(self.z_mean, self.expanded_z_logvar,\n",
        "                                       0.0,\n",
        "                                       2 * tf.log(1.0))\n",
        "      avg_kl = tf.reduce_mean(kl, 0)\n",
        "      self.kl_div = tf.reduce_sum(avg_kl)\n",
        "      self.elbo = self.recon_loss + self.kl_div\n",
        "\n",
        "  def analytic_recon(self, x):\n",
        "    \"\"\"Compute the analytic reconstruction error for a linear VAE.\n",
        "\n",
        "    Args:\n",
        "      x: The input tensor.\n",
        "\n",
        "    Returns:\n",
        "\n",
        "      E_q[log p(x|z)]\n",
        "    \"\"\"\n",
        "    wv = tf.matmul(self.enc_weight, self.dec_weight)\n",
        "    x_sub_mu = x - self.mean\n",
        "\n",
        "    wvx = tf.matmul(x_sub_mu, wv)\n",
        "    xvwwvx = tf.reduce_sum(wvx * wvx, 1)\n",
        "\n",
        "    tr_wdw = tf.trace(\n",
        "        tf.matmul(\n",
        "            self.dec_weight,\n",
        "            tf.expand_dims(tf.exp(self.z_logvar), 1) * self.dec_weight,\n",
        "            transpose_a=True))\n",
        "\n",
        "    xwvx = tf.reduce_sum(wvx * x_sub_mu, 1)\n",
        "\n",
        "    xx = tf.reduce_sum(x_sub_mu * x_sub_mu, 1)\n",
        "\n",
        "    d = self._config.input_dim\n",
        "    recon_loss = 0.5 * (\n",
        "        (tr_wdw + xvwwvx - 2.0 * xwvx + xx) / self.sigma_sq + d *\n",
        "        (_LOG_2PI + self.log_sigma_sq))\n",
        "    return tf.reduce_mean(recon_loss)\n",
        "  \n",
        "  def stochastic_recon(self, x, logits):\n",
        "    \"\"\"Stochastic estimation of the reconstruction error.\n",
        "\n",
        "    Computes the reconstruction error under a Gaussian observation model.\n",
        "\n",
        "    Args:\n",
        "      x: The input tensor.\n",
        "      logits: The stochastic output of the decoder.\n",
        "\n",
        "    Returns:\n",
        "\n",
        "      MEAN_i(log p(x_i|z_i))\n",
        "    \"\"\"\n",
        "    input_dim = tf.cast(tf.shape(x)[1], tf.float32)\n",
        "    batch_size = tf.shape(x)[0]\n",
        "    inputs = tf.reshape(x, (batch_size, -1))\n",
        "    logits = tf.reshape(logits, (batch_size, -1))\n",
        "\n",
        "    return tf.reduce_mean(0.5 * (tf.reduce_sum(\n",
        "        (inputs - logits)**2 / self.sigma_sq, 1) +\n",
        "                                  (_LOG_2PI + self.log_sigma_sq) * input_dim))\n",
        "\n",
        "  def gaussian_kl_divergence(self, q_mean, q_logvar, p_mean, p_logvar):\n",
        "    \"\"\"KL Divergence between two Gaussian distributions.\n",
        "\n",
        "    Given q ~ N(mu_1, sigma^2_1) and p ~ N(mu_2, sigma^2_2), this function\n",
        "    returns,\n",
        "\n",
        "    KL(q||p) = log (sigma^2_2 / sigma^2_1) +\n",
        "      (sigma^2_1 + (mu_1 - mu_2)^2) / (2 sigma^2_2) - 0.5\n",
        "\n",
        "    Args:\n",
        "      q_mean: Mean of proposal distribution.\n",
        "      q_logvar: Log-variance of proposal distribution\n",
        "      p_mean: Mean of prior distribution.\n",
        "      p_logvar: Log-variance of prior distribution\n",
        "\n",
        "    Returns:\n",
        "      The KL divergence between q and p ( KL(q||p) ).\n",
        "    \"\"\"\n",
        "    return 0.5 * (\n",
        "        p_logvar - q_logvar + (tf.exp(q_logvar) +\n",
        "                               (q_mean - p_mean)**2) / tf.exp(p_logvar) - 1)"
      ],
      "execution_count": 0,
      "outputs": []
    },
    {
      "cell_type": "markdown",
      "metadata": {
        "id": "s6WkR3WIRTKO",
        "colab_type": "text"
      },
      "source": [
        "## Probabilistic PCA"
      ]
    },
    {
      "cell_type": "code",
      "metadata": {
        "id": "7zmfyJrWPGl_",
        "colab_type": "code",
        "colab": {}
      },
      "source": [
        "def compute_ppca_mle(covariance, z_dim):\n",
        "  \"\"\"Compute the probabilistic pPCA MLE.\n",
        "\n",
        "  Args:\n",
        "    covariance: The data covariance matrix\n",
        "    z_dim: The number of hidden dimensions\n",
        "  \n",
        "  Returns:\n",
        "    (sigma_sq_mle, W_mle): The MLE solution to pPCA.\n",
        "  \"\"\"\n",
        "  w, u = np.linalg.eigh(covariance)\n",
        "  eigvals, eigvecs = w[::-1], u[:,::-1]\n",
        "  missing_eigvals = eigvals[z_dim:]\n",
        "  sigma_sq_mle = missing_eigvals.sum() / (eigvals.shape[0] - z_dim)\n",
        "  \n",
        "  active_eigvals = np.diag(eigvals[:z_dim])\n",
        "  active_components = eigvecs[:,:z_dim]\n",
        "  \n",
        "  W_mle = active_components.dot(\n",
        "      (active_eigvals - sigma_sq_mle * np.eye(z_dim)) ** 0.5)\n",
        "  return sigma_sq_mle, W_mle\n",
        "\n",
        "def log_p_x_true(W, sigma_sq, N, data_cov):\n",
        "  \"\"\"Compute the model likelihood of pPCA.\n",
        "\n",
        "  Args:\n",
        "    W: The decoder weight.\n",
        "    sigma_sq: Sigma^2 of observation model\n",
        "    N: Total number of data points\n",
        "    data_cov: The dxd data covariance matrix\n",
        "  \"\"\"\n",
        "  d = data_cov.shape[0]\n",
        "  C = W.dot(W.T) + sigma_sq * np.eye(W.shape[0])\n",
        "  loglik = d * _LOG_2PI + np.linalg.slogdet(C)[1]\n",
        "  loglik += np.trace(np.linalg.inv(C).dot(data_cov))\n",
        "  return -loglik * N / 2"
      ],
      "execution_count": 0,
      "outputs": []
    },
    {
      "cell_type": "markdown",
      "metadata": {
        "id": "usQXih68Skcl",
        "colab_type": "text"
      },
      "source": [
        "# Training the Linear VAE and pPCA"
      ]
    },
    {
      "cell_type": "markdown",
      "metadata": {
        "id": "M56ZOj9YVpXO",
        "colab_type": "text"
      },
      "source": [
        "## Probabilistic PCA"
      ]
    },
    {
      "cell_type": "code",
      "metadata": {
        "id": "a_EelWqOSnc8",
        "colab_type": "code",
        "colab": {}
      },
      "source": [
        "# Some hyperparameters\n",
        "DATA_SIZE = 1000\n",
        "Z_DIM = 200\n",
        "VAE_STEPS = 10000"
      ],
      "execution_count": 0,
      "outputs": []
    },
    {
      "cell_type": "code",
      "metadata": {
        "id": "dYdX2rF7SEUV",
        "colab_type": "code",
        "outputId": "f400288d-16ee-4b7d-dabb-b4dde09f8621",
        "colab": {
          "base_uri": "https://localhost:8080/",
          "height": 35
        }
      },
      "source": [
        "mnist_data = np.array(list(tfds.as_numpy(load_mnist_data(DATA_SIZE))))\n",
        "covariance = np.cov(mnist_data, rowvar=False)\n",
        "\n",
        "sigma_mle, W_mle = compute_ppca_mle(covariance, Z_DIM)\n",
        "avg_log_p_mle = log_p_x_true(W_mle, sigma_mle, DATA_SIZE, covariance)/DATA_SIZE\n",
        "print(\"Avg. Maximum Likelihood: {}\".format(avg_log_p_mle))"
      ],
      "execution_count": 0,
      "outputs": [
        {
          "output_type": "stream",
          "text": [
            "Avg. Maximum Likelihood: 941.6543285914813\n"
          ],
          "name": "stdout"
        }
      ]
    },
    {
      "cell_type": "markdown",
      "metadata": {
        "id": "sIWlFb9fVu59",
        "colab_type": "text"
      },
      "source": [
        "## Linear VAE"
      ]
    },
    {
      "cell_type": "code",
      "metadata": {
        "id": "Z0yp9prMVEwL",
        "colab_type": "code",
        "colab": {}
      },
      "source": [
        "def build_train_op(mnist_data, learning_rate=0.001):\n",
        "  \"\"\"Builds and returns a training op for optimizing the linear VAE\n",
        "\n",
        "  Resets the default graph and builds a new VAE and optimizer train op.\n",
        "\n",
        "  Args:\n",
        "    learning_rate: Learning rate for the Adam optimizer (default 0.01)\n",
        "  \n",
        "  Returns:\n",
        "    (vae, train_op)\n",
        "  \"\"\"\n",
        "  tf.reset_default_graph()\n",
        "\n",
        "  input_data = tf.data.Dataset.from_tensor_slices(mnist_data)\n",
        "  input_data = input_data.repeat().batch(DATA_SIZE)\n",
        "  input_tensor = input_data.make_one_shot_iterator().get_next()\n",
        "\n",
        "  # Build linear VAE\n",
        "  vae_config = LinearVAEConfig(hidden_dim=Z_DIM, sigma_init=1.0)\n",
        "  vae = LinearVAE(input_tensor, vae_config)\n",
        "\n",
        "  # Make optimizer train op\n",
        "  optimizer = tf.train.AdamOptimizer(learning_rate=learning_rate)\n",
        "  return vae, optimizer.minimize(vae.elbo)"
      ],
      "execution_count": 0,
      "outputs": []
    },
    {
      "cell_type": "code",
      "metadata": {
        "id": "fh3kEEX-VuLb",
        "colab_type": "code",
        "outputId": "e8d6488b-95d2-4bcf-d6c5-dcd81c760741",
        "colab": {
          "base_uri": "https://localhost:8080/",
          "height": 261
        }
      },
      "source": [
        "# Use the same data as pPCA\n",
        "vae, train_op = build_train_op(mnist_data, 0.001)\n",
        "sess = tf.InteractiveSession()\n",
        "sess.run(tf.global_variables_initializer())"
      ],
      "execution_count": 0,
      "outputs": [
        {
          "output_type": "stream",
          "text": [
            "WARNING:tensorflow:From <ipython-input-7-ecc2ffb1a889>:16: DatasetV1.make_one_shot_iterator (from tensorflow.python.data.ops.dataset_ops) is deprecated and will be removed in a future version.\n",
            "Instructions for updating:\n",
            "Use `for ... in dataset:` to iterate over a dataset. If using `tf.estimator`, return the `Dataset` object directly from your input function. As a last resort, you can use `tf.compat.v1.data.make_one_shot_iterator(dataset)`.\n"
          ],
          "name": "stdout"
        },
        {
          "output_type": "stream",
          "text": [
            "WARNING:tensorflow:From <ipython-input-7-ecc2ffb1a889>:16: DatasetV1.make_one_shot_iterator (from tensorflow.python.data.ops.dataset_ops) is deprecated and will be removed in a future version.\n",
            "Instructions for updating:\n",
            "Use `for ... in dataset:` to iterate over a dataset. If using `tf.estimator`, return the `Dataset` object directly from your input function. As a last resort, you can use `tf.compat.v1.data.make_one_shot_iterator(dataset)`.\n"
          ],
          "name": "stderr"
        },
        {
          "output_type": "stream",
          "text": [
            "WARNING:tensorflow:From /usr/local/lib/python3.6/dist-packages/tensorflow_core/python/ops/math_grad.py:1375: where (from tensorflow.python.ops.array_ops) is deprecated and will be removed in a future version.\n",
            "Instructions for updating:\n",
            "Use tf.where in 2.0, which has the same broadcast rule as np.where\n"
          ],
          "name": "stdout"
        },
        {
          "output_type": "stream",
          "text": [
            "WARNING:tensorflow:From /usr/local/lib/python3.6/dist-packages/tensorflow_core/python/ops/math_grad.py:1375: where (from tensorflow.python.ops.array_ops) is deprecated and will be removed in a future version.\n",
            "Instructions for updating:\n",
            "Use tf.where in 2.0, which has the same broadcast rule as np.where\n"
          ],
          "name": "stderr"
        }
      ]
    },
    {
      "cell_type": "code",
      "metadata": {
        "id": "jN66TT_4XehM",
        "colab_type": "code",
        "outputId": "a2408476-e635-494f-c82d-70039df3fb55",
        "colab": {
          "base_uri": "https://localhost:8080/",
          "height": 1000
        }
      },
      "source": [
        "elbos = []\n",
        "# Note that floating point errors in the analytic ELBO computation\n",
        "# lead to values which may (slightly) exceed the true log likelihood here\n",
        "for i in range(12000):\n",
        "  elbo = -sess.run([train_op, vae.elbo])[-1]\n",
        "  if i % 200 == 0:\n",
        "    elbos.append(elbo)\n",
        "    print(\"ELBO at step {} = {}\".format(i, elbo))"
      ],
      "execution_count": 0,
      "outputs": [
        {
          "output_type": "stream",
          "text": [
            "ELBO at step 0 = -968.6621704101562\n",
            "ELBO at step 200 = -668.5194702148438\n",
            "ELBO at step 400 = -590.5942993164062\n",
            "ELBO at step 600 = -514.5360107421875\n",
            "ELBO at step 800 = -441.3041076660156\n",
            "ELBO at step 1000 = -369.9105529785156\n",
            "ELBO at step 1200 = -299.8696594238281\n",
            "ELBO at step 1400 = -231.04783630371094\n",
            "ELBO at step 1600 = -163.48062133789062\n",
            "ELBO at step 1800 = -97.22725677490234\n",
            "ELBO at step 2000 = -32.38248062133789\n",
            "ELBO at step 2200 = 31.040729522705078\n",
            "ELBO at step 2400 = 92.99249267578125\n",
            "ELBO at step 2600 = 153.3643341064453\n",
            "ELBO at step 2800 = 212.14169311523438\n",
            "ELBO at step 3000 = 269.2225341796875\n",
            "ELBO at step 3200 = 324.53912353515625\n",
            "ELBO at step 3400 = 377.9089050292969\n",
            "ELBO at step 3600 = 429.6019287109375\n",
            "ELBO at step 3800 = 479.26446533203125\n",
            "ELBO at step 4000 = 526.95068359375\n",
            "ELBO at step 4200 = 572.6626586914062\n",
            "ELBO at step 4400 = 616.456787109375\n",
            "ELBO at step 4600 = 658.244384765625\n",
            "ELBO at step 4800 = 698.238525390625\n",
            "ELBO at step 5000 = 736.5476684570312\n",
            "ELBO at step 5200 = 772.7591552734375\n",
            "ELBO at step 5400 = 806.6507568359375\n",
            "ELBO at step 5600 = 837.297119140625\n",
            "ELBO at step 5800 = 863.6258544921875\n",
            "ELBO at step 6000 = 885.6294555664062\n",
            "ELBO at step 6200 = 903.287353515625\n",
            "ELBO at step 6400 = 916.8137817382812\n",
            "ELBO at step 6600 = 926.583984375\n",
            "ELBO at step 6800 = 933.1580810546875\n",
            "ELBO at step 7000 = 937.2884521484375\n",
            "ELBO at step 7200 = 939.6589965820312\n",
            "ELBO at step 7400 = 940.8868408203125\n",
            "ELBO at step 7600 = 941.466064453125\n",
            "ELBO at step 7800 = 941.73388671875\n",
            "ELBO at step 8000 = 941.84033203125\n",
            "ELBO at step 8200 = 941.8969116210938\n",
            "ELBO at step 8400 = 941.9080200195312\n",
            "ELBO at step 8600 = 941.92138671875\n",
            "ELBO at step 8800 = 941.9198608398438\n",
            "ELBO at step 9000 = 941.9194946289062\n",
            "ELBO at step 9200 = 941.8944091796875\n",
            "ELBO at step 9400 = 941.9273681640625\n",
            "ELBO at step 9600 = 941.9351806640625\n",
            "ELBO at step 9800 = 941.93115234375\n",
            "ELBO at step 10000 = 941.921875\n",
            "ELBO at step 10200 = 941.9248046875\n",
            "ELBO at step 10400 = 941.928466796875\n",
            "ELBO at step 10600 = 941.9375\n",
            "ELBO at step 10800 = 941.9421997070312\n",
            "ELBO at step 11000 = 941.936279296875\n",
            "ELBO at step 11200 = 941.9503173828125\n",
            "ELBO at step 11400 = 941.9246826171875\n",
            "ELBO at step 11600 = 941.950439453125\n",
            "ELBO at step 11800 = 941.936279296875\n"
          ],
          "name": "stdout"
        }
      ]
    },
    {
      "cell_type": "code",
      "metadata": {
        "id": "puVqrNdsXxtP",
        "colab_type": "code",
        "outputId": "9c8b36c6-037b-40e6-e0dd-6a16630fcd46",
        "colab": {
          "base_uri": "https://localhost:8080/",
          "height": 298
        }
      },
      "source": [
        "plt.style.use('seaborn')\n",
        "fig, ax = plt.subplots(figsize=(8,4))\n",
        "ax.plot(100*np.arange(len(elbos)), elbos, color='blue', label='Linear VAE')\n",
        "ax.axhline(avg_log_p_mle, ls='--', color='red', label='pPCA MLE')\n",
        "ax.set_xlabel('Training steps')\n",
        "ax.set_ylabel('Training ELBO')\n",
        "plt.legend(frameon=True)"
      ],
      "execution_count": 0,
      "outputs": [
        {
          "output_type": "execute_result",
          "data": {
            "text/plain": [
              "<matplotlib.legend.Legend at 0x7fea16108390>"
            ]
          },
          "metadata": {
            "tags": []
          },
          "execution_count": 10
        },
        {
          "output_type": "display_data",
          "data": {
            "image/png": "[encoded data removed]",
            "text/plain": [
              "<Figure size 576x288 with 1 Axes>"
            ]
          },
          "metadata": {
            "tags": []
          }
        }
      ]
    },
    {
      "cell_type": "code",
      "metadata": {
        "id": "fCB99qb7Xome",
        "colab_type": "code",
        "colab": {}
      },
      "source": [
        "W_vae, log_sigma_sq = sess.run([vae.dec_weight, vae.log_sigma_sq])\n",
        "W_vae = W_vae.T\n",
        "sigma_sq_vae = np.exp(log_sigma_sq)"
      ],
      "execution_count": 0,
      "outputs": []
    },
    {
      "cell_type": "code",
      "metadata": {
        "id": "J4DS9pnw8F_m",
        "colab_type": "code",
        "outputId": "5cdc36c5-9d1c-49ea-a3f9-02ef2845011a",
        "colab": {
          "base_uri": "https://localhost:8080/",
          "height": 404
        }
      },
      "source": [
        "avg_log_p_vae = log_p_x_true(W_vae, sigma_sq_vae, DATA_SIZE, covariance)/DATA_SIZE\n",
        "\n",
        "# Reordering rows/columns by eigenvalues for visualization\n",
        "diag = np.diag(W_vae.T.dot(W_vae))\n",
        "sort_idx = np.argsort(-diag)\n",
        "P = np.zeros((W_vae.shape[1], W_vae.shape[1]))\n",
        "for i,j in enumerate(sort_idx):\n",
        "  P[i][j] = 1\n",
        "ordered_WTW = P.dot(W_vae.T.dot(W_vae)).dot(P.T)\n",
        "\n",
        "plt.figure()\n",
        "plt.imshow(ordered_WTW[:30,:30], cmap='gray', vmin=0.0)\n",
        "plt.title(r'Top left block of $W^T W$ (ordered by eigenvalue)')\n",
        "print(\"Avg. VAE Likelihood: {}\".format(avg_log_p_vae))\n",
        "print(\"Avg. Maximum Likelihood: {}\".format(avg_log_p_mle))"
      ],
      "execution_count": 0,
      "outputs": [
        {
          "output_type": "stream",
          "text": [
            "Avg. VAE Likelihood: 941.6113943606014\n",
            "Avg. Maximum Likelihood: 941.6543285914813\n"
          ],
          "name": "stdout"
        },
        {
          "output_type": "display_data",
          "data": {
            "image/png": "[encoded data removed]",
            "text/plain": [
              "<Figure size 576x396 with 1 Axes>"
            ]
          },
          "metadata": {
            "tags": []
          }
        }
      ]
    },
    {
      "cell_type": "code",
      "metadata": {
        "id": "ID1E_hLL8Gww",
        "colab_type": "code",
        "colab": {}
      },
      "source": [
        ""
      ],
      "execution_count": 0,
      "outputs": []
    }
  ]
}