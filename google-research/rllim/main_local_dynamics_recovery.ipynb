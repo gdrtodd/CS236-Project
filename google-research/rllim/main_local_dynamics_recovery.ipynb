{
 "cells": [
  {
   "cell_type": "markdown",
   "metadata": {},
   "source": [
    "Copyright 2019 The Google Research Authors.\n",
    "\n",
    "Licensed under the Apache License, Version 2.0 (the \"License\");\n",
    "you may not use this file except in compliance with the License.\n",
    "You may obtain a copy of the License at\n",
    "\n",
    "     http://www.apache.org/licenses/LICENSE-2.0\n",
    "\n",
    "Unless required by applicable law or agreed to in writing, software\n",
    "distributed under the License is distributed on an \"AS IS\" BASIS,\n",
    "WITHOUT WARRANTIES OR CONDITIONS OF ANY KIND, either express or implied.\n",
    "See the License for the specific language governing permissions and\n",
    "limitations under the License."
   ]
  },
  {
   "cell_type": "markdown",
   "metadata": {},
   "source": [
    "# Recovering Local Dynamics using RL-LIM with Synthetic Datasets\n",
    "\n",
    " * Jinsung Yoon, Sercan O Arik, Tomas Pfister, \"RL-LIM: Reinforcement Learning-based Locally Interpretable Modeling\", arXiv preprint arXiv:1909.12367 (2019) - https://arxiv.org/abs/1909.12367.\n",
    " \n",
    "This notebook describes the user-guide of recovering local dynamics with synthetic datasets using \"Reinforcement Learning based Locally Interpretable Modeling (RL-LIM)\".\n",
    "\n",
    "RL-LIM efficiently utilizes the small representational capacity of locally interpretable models by training with a small number of training samples that are determined to have the highest value contribution to the fitting of a locally interpretable model. In order to select these highest-value instances, we train instance-wise weight estimators (modeled with deep neural networks) using a reinforcement signal that quantifies the fidelity metric (i.e. how well does the model approximate the black-box model predictions). RL-LIM constructs locally interpretable models with the selected highest-value instances and outputs instance-wise explanations and interpretable predictions.\n",
    "\n",
    "On real-world datasets it is challenging to directly evaluate the explanation quality of the locally interpretable models due to the absence of ground-truth explanations. Thus we initially focus on synthetic datasets (with known ground-truth explanations (local dynamics)) to directly evaluate how well the locally interpretable models can recover the underlying local dynamics."
   ]
  },
  {
   "cell_type": "markdown",
   "metadata": {},
   "source": [
    "##  Prerequisite\n",
    "\n",
    " * Clone https://github.com/google-research/google-research.git to the current directory."
   ]
  },
  {
   "cell_type": "code",
   "execution_count": 1,
   "metadata": {},
   "outputs": [],
   "source": [
    "import os\n",
    "from git import Repo\n",
    "\n",
    "# Current working directory\n",
    "repo_dir = os.getcwd() + '/repo'\n",
    "\n",
    "if not os.path.exists(repo_dir):\n",
    "    os.makedirs(repo_dir)\n",
    "\n",
    "# Clones github repository\n",
    "if not os.listdir(repo_dir):\n",
    "    git_url = \"https://github.com/google-research/google-research.git\"\n",
    "    Repo.clone_from(git_url, repo_dir)"
   ]
  },
  {
   "cell_type": "markdown",
   "metadata": {},
   "source": [
    "## Necessary packages and function calls\n",
    "\n",
    " * ridge: Ridge regression model used as an interpretable model.\n",
    " * load_synthetic_data: Data loader for synthetic datasets (Syn1, Syn2, Syn3).\n",
    " * rllim: RL-LIM class for training instance-wise weight estimator.\n",
    " * rllim_metrics: Evaluation metrics for the locally interpretable models in various metrics (fidelity and absolute weight difference (AWD))."
   ]
  },
  {
   "cell_type": "code",
   "execution_count": 2,
   "metadata": {},
   "outputs": [],
   "source": [
    "import numpy as np\n",
    "from sklearn.linear_model import Ridge\n",
    "\n",
    "# Sets current directory\n",
    "os.chdir(repo_dir)\n",
    "\n",
    "from rllim.data_loading import load_synthetic_data\n",
    "from rllim import rllim\n",
    "from rllim.rllim_metrics import awd_metric, fidelity_metrics, plot_result"
   ]
  },
  {
   "cell_type": "markdown",
   "metadata": {},
   "source": [
    "## Data loading\n",
    "\n",
    " * Load training, probe and testing datasets and ground-truth explanations (local dynamics).\n",
    " * In this notebook, we generate synthetic training, probe, and testing datasets.\n",
    " \n",
    "**outputs:**\n",
    " * x_train, y_train: Training features and labels.\n",
    " * x_probe, y_probe: Probe features and labels.\n",
    " * x_test, y_test: Testing features and labels.\n",
    " * c_test: Ground truth local dynamics of testing samples."
   ]
  },
  {
   "cell_type": "code",
   "execution_count": 3,
   "metadata": {},
   "outputs": [
    {
     "name": "stdout",
     "output_type": "stream",
     "text": [
      "Finished data loading.\n"
     ]
    }
   ],
   "source": [
    "# Data name: 'Syn1' or 'Syn2' or 'Syn3' in this notebook\n",
    "\n",
    "# X ~ N(0, I)\n",
    "# Syn1: Y = X_0 + 2 X_1 if X_10 < 0             &  Y = X_2 + 2 X_3 if X_10 >= 0\n",
    "# Syn2: Y = X_0 + 2 X_1 if X_10 + e^{X_11} < 1  &  Y = X_2 + 2 X_3 if X_10 + e^{X_11} >= 1\n",
    "# Syn3: Y = X_0 + 2 X_1 if X_10 + (X_11)^3 < 0  &  Y = X_2 + 2 X_3 if X_10 + (X_11)^3 >= 0 \n",
    "\n",
    "data_name = 'Syn1'\n",
    "\n",
    "# The number of training, probe and testing samples\n",
    "dict_no = dict()\n",
    "dict_no['train'] = 1000\n",
    "dict_no['probe'] = 100\n",
    "dict_no['test'] = 1000\n",
    "\n",
    "# The number of dimensions\n",
    "dict_no['dim'] = 11\n",
    "\n",
    "# Random seed\n",
    "seed = 0\n",
    "\n",
    "# Loads data\n",
    "x_train, y_train, x_probe, y_probe, x_test, y_test, c_test = load_synthetic_data(data_name, dict_no, seed)\n",
    "\n",
    "print('Finished data loading.')"
   ]
  },
  {
   "cell_type": "markdown",
   "metadata": {},
   "source": [
    "## Step 0 & Step 1:\n",
    "\n",
    "In this notebook, we skip Step 0 and Step 1 (of RL-LIM) because we treat y_train, y_probe, and y_test as the predictions of the pre-trained black-box model. We directly use the ground truth function as the black-box model and focus on how well locally interpretable modeling can capture the local dynamics.\n",
    "\n",
    " * Step 0: Black-box model training.\n",
    " * Step 1: Auxiliary dataset construction."
   ]
  },
  {
   "cell_type": "markdown",
   "metadata": {},
   "source": [
    "## Step 2: Interpretable baseline training\n",
    "\n",
    "To improve the stability of the instance-wise weight estimator training, an interpretable baseline model is observed to be beneficial. We use a globally interpretable model (in this notebook, we use Ridge regression) optimized to replicate the predictions of the black-box model.\n",
    "\n",
    "1. **Input**: \n",
    " * locally interpretable model: Ridge regression (we can switch this to linear regression). The model must have fit, predict (for regression) or predict_proba (for classification), intercept_ and coef_  as the methods.\n",
    " \n",
    " \n",
    "2. **Output**:\n",
    " * Trained interpretable baseline model: Function that tries to replicate the predictions of the black-box model using globally interpretable model."
   ]
  },
  {
   "cell_type": "code",
   "execution_count": 4,
   "metadata": {},
   "outputs": [
    {
     "name": "stdout",
     "output_type": "stream",
     "text": [
      "Finished interpretable baseline training.\n"
     ]
    }
   ],
   "source": [
    "# Defines baseline\n",
    "baseline = Ridge(alpha=1)\n",
    "\n",
    "# Trains interpretable baseline model\n",
    "baseline.fit(x_train, y_train)\n",
    "\n",
    "print('Finished interpretable baseline training.')"
   ]
  },
  {
   "cell_type": "markdown",
   "metadata": {},
   "source": [
    "## Step 3: Trains instance-wise weight estimator\n",
    "\n",
    "We train an instance-wise weight estimator using training dataset (x_train, y_train) and probe dataset (x_probe, y_probe) using reinforcement learning.\n",
    "\n",
    "1. **Input**: \n",
    " * Network parameters: Set network parameters of instance-wise weight estimator.\n",
    " * Locally interpretable model: Ridge regression (we can switch this to linear regression). The model must have fit, predict (for regression) or predict_proba (for classification), intercept_ and coef_ as the methods.\n",
    " \n",
    " \n",
    "2. **Output**:\n",
    " * Instancewise weight estimator: Function that uses training set and a testing sample as inputs to estimate weights for each training sample to construct locally interpretable model for the testing sample."
   ]
  },
  {
   "cell_type": "code",
   "execution_count": 5,
   "metadata": {},
   "outputs": [
    {
     "name": "stdout",
     "output_type": "stream",
     "text": [
      "\n",
      "WARNING: The TensorFlow contrib module will not be included in TensorFlow 2.0.\n",
      "For more information, please see:\n",
      "  * https://github.com/tensorflow/community/blob/master/rfcs/20180907-contrib-sunset.md\n",
      "  * https://github.com/tensorflow/addons\n",
      "If you depend on functionality not listed there, please file an issue.\n",
      "\n",
      "WARNING:tensorflow:From /usr/local/google/home/jinsungyoon/anaconda3/lib/python3.7/site-packages/tensorflow/python/framework/op_def_library.py:263: colocate_with (from tensorflow.python.framework.ops) is deprecated and will be removed in a future version.\n",
      "Instructions for updating:\n",
      "Colocations handled automatically by placer.\n"
     ]
    },
    {
     "name": "stderr",
     "output_type": "stream",
     "text": [
      "100%|██████████| 2000/2000 [04:09<00:00,  8.64it/s]\n"
     ]
    },
    {
     "name": "stdout",
     "output_type": "stream",
     "text": [
      "Finished instance-wise weight estimator training.\n",
      "WARNING:tensorflow:From /usr/local/google/home/jinsungyoon/anaconda3/lib/python3.7/site-packages/tensorflow/python/training/saver.py:1266: checkpoint_exists (from tensorflow.python.training.checkpoint_management) is deprecated and will be removed in a future version.\n",
      "Instructions for updating:\n",
      "Use standard file APIs to check for files with this prefix.\n",
      "INFO:tensorflow:Restoring parameters from ./tmp/model.ckpt\n",
      "INFO:tensorflow:Restoring parameters from ./tmp/model.ckpt\n"
     ]
    },
    {
     "name": "stderr",
     "output_type": "stream",
     "text": [
      "100%|██████████| 1/1 [00:00<00:00,  7.96it/s]"
     ]
    },
    {
     "name": "stdout",
     "output_type": "stream",
     "text": [
      "Finished instance-wise weight estimations, interpretable predictions, and local explanations.\n"
     ]
    },
    {
     "name": "stderr",
     "output_type": "stream",
     "text": [
      "\n"
     ]
    }
   ],
   "source": [
    "# Instance-wise weight estimator network parameters\n",
    "parameters = dict()\n",
    "parameters['hidden_dim'] = 100\n",
    "parameters['iterations'] = 2000\n",
    "parameters['num_layers'] = 5\n",
    "parameters['batch_size'] = 900\n",
    "parameters['batch_size_inner'] = 10\n",
    "parameters['lambda'] = 1.0\n",
    "\n",
    "# Checkpoint file name\n",
    "checkpoint_file_name = './tmp/model.ckpt'\n",
    "\n",
    "# Defines locally interpretable model\n",
    "interp_model = Ridge(alpha=1)\n",
    "\n",
    "# Initializes RL-LIM\n",
    "rllim_class = rllim.Rllim(x_train, y_train, x_probe, y_probe, parameters, interp_model, baseline, checkpoint_file_name)\n",
    "\n",
    "# Trains RL-LIM\n",
    "rllim_class.rllim_train()\n",
    "\n",
    "print('Finished instance-wise weight estimator training.')\n",
    "\n",
    "## Output functions\n",
    "# Instance-wise weight estimator for x_test[0, :]\n",
    "dve_out = rllim_class.instancewise_weight_estimator(x_train, y_train, x_test[0, :])\n",
    "\n",
    "# Interpretable predictions (test_y_fit) and instance-wise explanations (test_coef) for x_test[0, :]\n",
    "test_y_fit, test_coef = rllim_class.rllim_interpreter(x_train, y_train, x_test[0, :], interp_model)\n",
    "\n",
    "print('Finished instance-wise weight estimations, interpretable predictions, and local explanations.')"
   ]
  },
  {
   "cell_type": "markdown",
   "metadata": {},
   "source": [
    "## Step 4: Interpretable inference\n",
    "\n",
    "Unlike Step 3 (training instance-wise weight estimator), we use a fixed instance-wise weight estimator (without the sampler and interpretable baseline) and merely fit the locally interpretable model at inference. Given the test instance, we obtain the selection probabilities from the instance-wise weight estimator, and using these as the weights, we fit the locally interpretable model via weighted optimization. \n",
    "\n",
    "1. **Input**: \n",
    " * Locally interpretable model: Ridge regression (we can switch this to linear regression). The model must have fit, predict (for regression) or predict_proba (for classification), intercept_ and coef_ as the methods.\n",
    " \n",
    " \n",
    "2. **Output**:\n",
    " * Instance-wise explanations (test_coef): Estimated local dynamics for testing samples using trained locally interpretable model.\n",
    " * Interpretable predictions (test_y_fit): Local predictions for testing samples using trained locally interpretable model."
   ]
  },
  {
   "cell_type": "code",
   "execution_count": 6,
   "metadata": {},
   "outputs": [
    {
     "name": "stdout",
     "output_type": "stream",
     "text": [
      "INFO:tensorflow:Restoring parameters from ./tmp/model.ckpt\n"
     ]
    },
    {
     "name": "stderr",
     "output_type": "stream",
     "text": [
      "100%|██████████| 1000/1000 [00:04<00:00, 225.73it/s]"
     ]
    },
    {
     "name": "stdout",
     "output_type": "stream",
     "text": [
      "Finished interpretable predictions and local explanations.\n"
     ]
    },
    {
     "name": "stderr",
     "output_type": "stream",
     "text": [
      "\n"
     ]
    }
   ],
   "source": [
    "# Trains locally interpretable models and output instance-wise explanations (test_coef) and\n",
    "# interpretable predictions (test_y_fit) \n",
    "test_y_fit, test_coef = rllim_class.rllim_interpreter(x_train, y_train, x_test, interp_model)\n",
    "\n",
    "print('Finished interpretable predictions and local explanations.')"
   ]
  },
  {
   "cell_type": "markdown",
   "metadata": {},
   "source": [
    "## Evaluation\n",
    "\n",
    "We use two metrics (fidelity and average weight difference (AWD)) to evaluate the locally interpretable models.\n",
    "\n",
    " * Fidelity: Difference between black-box model predictions (y_test_hat) and interpretable predictions (test_y_fit). In this notebook, we use Mean Absolute Error (MAE) as the metric.\n",
    " * Average Weight Difference (AWD): Mean absolute difference between ground truth local dynamics (test_c) and instance-wise explanations (test_coef)."
   ]
  },
  {
   "cell_type": "code",
   "execution_count": 7,
   "metadata": {},
   "outputs": [
    {
     "name": "stdout",
     "output_type": "stream",
     "text": [
      "fidelity of RL-LIM in terms of MAE: 0.5137\n",
      "AWD of RL-LIM: 0.183\n"
     ]
    }
   ],
   "source": [
    "# Fidelity\n",
    "mae = fidelity_metrics (y_test, test_y_fit, metric='mae')\n",
    "print('fidelity of RL-LIM in terms of MAE: ' + str(np.round(mae, 4)))\n",
    "\n",
    "# AWD\n",
    "awd = awd_metric (c_test, test_coef)\n",
    "print('AWD of RL-LIM: ' + str(np.round(awd, 4)))"
   ]
  },
  {
   "cell_type": "markdown",
   "metadata": {},
   "source": [
    "### 1. Fidelity plot\n",
    "\n",
    "We visualize the fidelity (in terms of MAE) of the testing samples based on the distance from the boundary where the local dynamics change (in percentile).\n",
    "\n",
    " * x-axis: Distance from the boundary where the local dynamics change (in percentile).\n",
    " * y-axis: Fidelity (in terms of MAE)."
   ]
  },
  {
   "cell_type": "code",
   "execution_count": 8,
   "metadata": {
    "scrolled": true
   },
   "outputs": [
    {
     "data": {
      "image/png": "[encoded data removed]",
      "text/plain": [
       "<Figure size 432x288 with 1 Axes>"
      ]
     },
     "metadata": {
      "needs_background": "light"
     },
     "output_type": "display_data"
    }
   ],
   "source": [
    "# Reports fidelity plot\n",
    "plot_result(x_test, data_name, y_test, test_y_fit, c_test, test_coef, metric='mae', criteria='Fidelity')"
   ]
  },
  {
   "cell_type": "markdown",
   "metadata": {},
   "source": [
    "### 2. AWD plot\n",
    "\n",
    "We visualize the AWD of the testing samples based on the distance from the boundary where the local dynamics change (in percentile).\n",
    "\n",
    " * x-axis: Distance from the boundary where the local dynamics change (in percentile).\n",
    " * y-axis: AWD."
   ]
  },
  {
   "cell_type": "code",
   "execution_count": 9,
   "metadata": {},
   "outputs": [
    {
     "data": {
      "image/png": "[encoded data removed]",
      "text/plain": [
       "<Figure size 432x288 with 1 Axes>"
      ]
     },
     "metadata": {
      "needs_background": "light"
     },
     "output_type": "display_data"
    }
   ],
   "source": [
    "# Reports AWD plot\n",
    "plot_result(x_test, data_name, y_test, test_y_fit, c_test, test_coef, metric='mae', criteria='AWD')"
   ]
  }
 ],
 "metadata": {
  "kernelspec": {
   "display_name": "Python 3",
   "language": "python",
   "name": "python3"
  },
  "language_info": {
   "codemirror_mode": {
    "name": "ipython",
    "version": 3
   },
   "file_extension": ".py",
   "mimetype": "text/x-python",
   "name": "python",
   "nbconvert_exporter": "python",
   "pygments_lexer": "ipython3",
   "version": "3.7.3"
  }
 },
 "nbformat": 4,
 "nbformat_minor": 2
}
