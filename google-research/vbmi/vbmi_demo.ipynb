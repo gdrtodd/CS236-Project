{
  "cells": [
    {
      "cell_type": "markdown",
      "metadata": {
        "colab_type": "text",
        "id": "ULndVKL12doD"
      },
      "source": [
        "##### Copyright 2019 Google LLC.\n",
        "\n",
        "Licensed under the Apache License, Version 2.0 (the \"License\")"
      ]
    },
    {
      "cell_type": "code",
      "execution_count": 0,
      "metadata": {
        "cellView": "both",
        "colab": {},
        "colab_type": "code",
        "id": "FhqgxELZ2jTB"
      },
      "outputs": [],
      "source": [
        "# Licensed under the Apache License, Version 2.0 (the \"License\");\n",
        "# you may not use this file except in compliance with the License.\n",
        "# You may obtain a copy of the License at\n",
        "#\n",
        "# https://www.apache.org/licenses/LICENSE-2.0\n",
        "#\n",
        "# Unless required by applicable law or agreed to in writing, software\n",
        "# distributed under the License is distributed on an \"AS IS\" BASIS,\n",
        "# WITHOUT WARRANTIES OR CONDITIONS OF ANY KIND, either express or implied.\n",
        "# See the License for the specific language governing permissions and\n",
        "# limitations under the License."
      ]
    },
    {
      "cell_type": "markdown",
      "metadata": {
        "colab_type": "text",
        "id": "yz0yBU27ED67"
      },
      "source": [
        "# On Variational Bounds of Mutual Information\n",
        "Ben Poole, Sherjil Ozair, A\u0026auml;ron van den Oord, Alexander A. Alemi, George Tucker\u003cbr/\u003e\n",
        "*ICML 2019*\u003cbr/\u003e\n",
        "[paper](https://arxiv.org/abs/1905.06922) / [slides](https://docs.google.com/presentation/d/1dz0AVBy6VDz7SU43m0IQjuJDviEuf3NpWSeIWov_DYc/present?usp=sharing) / [video](https://www.facebook.com/icml.imls/videos/2202320806483370/?t=2562) / [poster](https://drive.google.com/file/d/1C5ZYqSJRaOupQelqYgVbc9lJ7__0CDXA/view?usp=sharing)\n",
        "\n",
        "This notebook contains code for most of the variational bounds on mutual information presented in the paper, and experiments on the toy Gaussian problem. \n",
        "\n",
        "Comments? Complaints? Questions? Bug Ben on Twitter [@poolio](https://twitter.com/poolio)\n",
        "\n",
        "\u003csup\u003eThanks to [Zhe Dong](https://www.linkedin.com/in/hoogendong/) for valuable feedback on this colab.\u003c/sup\u003e"
      ]
    },
    {
      "cell_type": "markdown",
      "metadata": {
        "colab_type": "text",
        "id": "IfHEX-0eaOHP"
      },
      "source": [
        "### Introduction\n",
        "\n",
        "Here we give a brief overview of the challenges of MI estimation and a few of the variational bounds we presented in the paper. Please checkout the [paper](https://arxiv.org/abs/1905.06922) for more details.\n",
        "\n",
        "Our goal is to build efficient estimators of mutual information (MI) that leverage neural networks. Mutual information is given by:\n",
        "$$I(X; Y) = \\mathbb{E}_{p(x,y)}\\left[\\log \\frac{p(x,y)}{p(x)p(y)}\\right].$$\n",
        "Estimating MI is challenging as we often only have access to samples $x, y$ but do not know the densities.\n",
        "\n",
        "To overcome these challenges, we review and presented several variational estimators of MI. These estimators replace the intractable MI objective with a tractable objective that lower or upper bounds MI, and depends on neural-network-powered critics and baselines. For example, the $I_\\text{NWJ}$ bound is given by:\n",
        "\n",
        "$$ I(X; Y) \\ge 1 + \\mathbb{E}_{p(x, y)} \\left[\\color{blue} f(x,y) \\right] - \\mathbb{E}_{p(x)p(y)} \\left[  \\exp{{\\color{blue} f(x , y)}}\\right] $$\n",
        "where $\\color{blue} f$ is a neural network that takes $x$ and $y$ as input and outputs a scalar.\n",
        "\n",
        "Below, we code up several variational lower and upper bounds on mutual information:\n",
        "- Existing lower bounds: $I_\\text{NWJ}, \\,I_\\text{InfoNCE}$\n",
        "- New lower bounds: $I_\\text{TUBA},\\, I_{\\alpha},\\, I_\\text{JS}$\n",
        "- Structured lower bound ($I_\\text{TNCE}$) and upper bounds ($I_\\text{BA}$, $I_\\text{MBU}$) with known $p(y|x)$\n",
        "\n",
        "Here's a table of the bounds we'll code up here as well as the mathematical objectives:\n",
        "![Table of MI bounds](https://i.imgur.com/pvZtPLl.png)\n",
        "\n",
        "We apply these bounds to a toy problem, where $(x, y)$ are jointly Gaussian, and we vary the correlation between $x$ and $y$ over time to increase the mutual information. For the bounds with neural network critics, we train the critics to tighten the variational bounds.\n",
        "\n",
        "### Practical suggestions\n",
        "- MI estimates with neural networks are highly sensitive to the representation of the input data, architecture, optimizer, and more. When applying these estimators to new datasets, you will need to experiment!\n",
        "- For representation learning, the $I_\\text{NCE}$ bounds are a good place to start. Implementing them is simple.\n",
        "- For estimation, start with the $I_\\alpha$ bounds with a small $\\alpha$. The implementation is trickier, but they can greatly reduce variance vs. $I_\\text{NWJ}$.\n",
        "- If you have known structure use it. For example, if you know a conditional distribution $p(y|x)$, use one of the structured bounds. \n",
        "\n",
        "### Implementation notes:\n",
        "- For most bounds, we will work with a matrix, denoted by `f` or `scores` that contains the output of the critic for every pair of elements in the minibatch: `scores[i, j] = critic(x[j], y[i])`\n",
        "- Most variational lower bounds on MI require samples from both the joint $p(x, y)$ and marginal distributions $p(x)p(y)$. For a minibatch of size $K$, we have $K$ samples from the joint $p(x,y)$ and can form samples from the marginal by using all pairs $x_i, y_j$ where $i \\ne j$, giving $K \\times (K -1)$ samples from the marginal. The diagonal elements of the `scores` matrix correspond to the $K$ critic scores for samples from the joint, and the off-diagonal elements correspond to the critic scores for samples from the marginal.\n",
        "- In this notebook we assume that we use all other elements in the minibatch as negative samples. For certain InfoMax tasks, for example when negatives come from the same image but at other spatial locations, one has to be more careful about summing over and selecting the right positive and negative examples to form the two expectations.\n",
        "- Separable critics are the more efficient and popular architecture. Instead of having to do $K^2$ forward passes, you only have to do $2 \\times K$ followed by an inner product. "
      ]
    },
    {
      "cell_type": "markdown",
      "metadata": {
        "colab_type": "text",
        "id": "KgnZ2S_KF5-y"
      },
      "source": [
        "## Setup\n",
        "Notebook should work in TF 1.X, but uses Eager-mode."
      ]
    },
    {
      "cell_type": "code",
      "execution_count": 0,
      "metadata": {
        "colab": {},
        "colab_type": "code",
        "id": "L5Qe4JE48CNO"
      },
      "outputs": [],
      "source": [
        "from __future__ import absolute_import, division, print_function, unicode_literals\n",
        "import tensorflow as tf\n",
        "tf.enable_eager_execution()\n",
        "\n",
        "import tensorflow_probability as tfp\n",
        "tfd = tfp.distributions\n",
        "tfkl = tf.keras.layers\n",
        "tfp = tfp.layers\n",
        "\n",
        "import pandas as pd # used for exponential moving average\n",
        "from scipy.special import logit\n",
        "import numpy as np\n",
        "import matplotlib.pyplot as plt"
      ]
    },
    {
      "cell_type": "markdown",
      "metadata": {
        "colab_type": "text",
        "id": "vJXJN6s7aY-p"
      },
      "source": [
        "## Variational bound implementations\n",
        "###  TUBA and NWJ lower bounds\n",
        "The $I_\\text{TUBA}$ variational lower bound on mutual information is given by:\n",
        "$$ I(X; Y) \\ge 1 + \\mathbb{E}_{p(x, y)} \\left[\\log {e^{\\color{blue} f(x,y)}\\over{\\color{green}  a(y)}} \\right] - \\mathbb{E}_{p(x)p(y)} \\left[  \\frac{e^{{\\color{blue} f(x , y)}}}{\\color{green} a(y)}\\right] \\triangleq I_\\text{TUBA}$$\n",
        "These bounds can be low bias, but are typically high variance. To implement this bound, we need the critic scores for all elements in the minibatch: `scores[i, j] = critic(x[i], y[j])`, and the value of the baseline `a[j] = baseline(y[j])` for every `y`. Instead of requiring the baseline to be non-negative, we assume that the argument passed in is $\\log {\\color{green} a(y)}$, and will exponentiate it to get the baseline ${\\color{green} a(y)}$.\n",
        "\n",
        "The implementation requires averaging the exponentiated critic over all independent samples, corresponding to the off-diagonal terms in `scores`,  which is done by the `reduce_logmeanexp_nodiag` function.\n",
        "\n",
        "The $I_\\text{NWJ}$ bound just uses the constant $e$ for the baseline, which is equivalent to adding 1 to the critic scores."
      ]
    },
    {
      "cell_type": "code",
      "execution_count": 0,
      "metadata": {
        "colab": {},
        "colab_type": "code",
        "id": "uE0-b7dreyFB"
      },
      "outputs": [],
      "source": [
        "def reduce_logmeanexp_nodiag(x, axis=None):\n",
        "  batch_size = x.shape[0].value\n",
        "  logsumexp = tf.reduce_logsumexp(x - tf.linalg.tensor_diag(np.inf * tf.ones(batch_size)), axis=axis)\n",
        "  if axis:\n",
        "    num_elem = batch_size - 1.\n",
        "  else:\n",
        "    num_elem  = batch_size * (batch_size - 1.)\n",
        "  return logsumexp - tf.math.log(num_elem)\n",
        "\n",
        "def tuba_lower_bound(scores, log_baseline=None):\n",
        "  if log_baseline is not None:\n",
        "    scores -= log_baseline[:, None]\n",
        "  batch_size = tf.cast(scores.shape[0], tf.float32)\n",
        "  # First term is an expectation over samples from the joint,\n",
        "  # which are the diagonal elmements of the scores matrix.\n",
        "  joint_term = tf.reduce_mean(tf.linalg.diag_part(scores))\n",
        "  # Second term is an expectation over samples from the marginal,\n",
        "  # which are the off-diagonal elements of the scores matrix.\n",
        "  marg_term = tf.exp(reduce_logmeanexp_nodiag(scores))\n",
        "  return 1. + joint_term -  marg_term\n",
        "\n",
        "def nwj_lower_bound(scores):\n",
        "  # equivalent to: tuba_lower_bound(scores, log_baseline=1.)\n",
        "  return tuba_lower_bound(scores - 1.) "
      ]
    },
    {
      "cell_type": "markdown",
      "metadata": {
        "colab_type": "text",
        "id": "DUd0hFZ5Js8k"
      },
      "source": [
        "### InfoNCE contrastive lower bound\n",
        "The InfoNCE variational lower bound is the easiest to implement, and typically provides low variance but high bias estimates of MI:\n",
        "$$I(X; Y) \\ge \\mathbb{E}_{p^K(x,y)}\\left[\\frac{1}{K} \\sum_{i=1}^K \\log \\frac{e^{\\color{blue}f(x_i, y_i)}}{\\frac{1}{K}\\sum_{j=1}^K e^{\\color{blue} f(x_j, y_i)}}\\right].$$\n",
        "The expectation $p^K(x,y)$ draws $K$ samples from the joint $(x, y)$. So for a minibatch of $K$ examples, we are effectively forming a single sample Monte-Carlo estimate of the quantity inside the expectation.\n",
        "\n",
        "Here we use `reduce_logsumexp` so the implementation matches the math, but you can also implement this with `sparse_softmax_cross_entropy_with_logits` using a different label for each of the `K` elements in the minibatch."
      ]
    },
    {
      "cell_type": "code",
      "execution_count": 0,
      "metadata": {
        "colab": {},
        "colab_type": "code",
        "id": "rKEhwRbMd81i"
      },
      "outputs": [],
      "source": [
        "def infonce_lower_bound(scores):\n",
        "  \"\"\"InfoNCE lower bound from van den Oord et al. (2018).\"\"\"\n",
        "  nll = tf.reduce_mean(tf.linalg.diag_part(scores) - tf.reduce_logsumexp(scores, axis=1))\n",
        "  # Alternative implementation:\n",
        "  # nll = -tf.nn.sparse_softmax_cross_entropy_with_logits(logits=scores, labels=tf.range(batch_size))\n",
        "  mi = tf.math.log(tf.cast(scores.shape[0].value, tf.float32)) + nll\n",
        "  return mi"
      ]
    },
    {
      "cell_type": "markdown",
      "metadata": {
        "colab_type": "text",
        "id": "wluSdg-QLCfJ"
      },
      "source": [
        "### Interpolated lower bounds\n",
        "The interpolated lower bounds are the trickiest to implement, but also provide the best of both worlds: lower bias or variance relative to the NWJ and InfoNCE bounds. We start with the multisample TUBA bound from the paper:\n",
        "$$I(X_1; Y) \\geq 1+\\mathbb{E}_{p(x_{1:K})p(y|x_1)}\\left[\\log \\frac{e^{f(x_1,y)}}{a(y; x_{1:K})}\\right]\n",
        "- \\mathbb{E}_{p(x_{1:K})p(y)}\\left[ \\frac{e^{f(x_1,y)}}{a(y; x_{1:K})}\\right]$$\n",
        "Coding up this bound is tricky as we need $K+1$ samples from the joint $p(x,y)$: $K$ of these samples are used for the first term, and the additional sample is used for the independent sample from $p(y)$ for the second term. In the minibatch setting, we can implement this by holding out the $j$th sample from the joint,  and using $y_j$ for the indepent sample from $p(y)$ for the second term, and $x_\\ne j$ (all elements in the minibatch except element $j$) for the samples from $p(x_{1:K})$. A single-sample Monte-Carlo approximation to the NWJ bound is then given by:\n",
        "\n",
        "$$1 + \\log \\frac{e^{f(x_1, y_1)}}{a(y_1; x_{\\ne j}, \\alpha)} - \\frac{e^{f(x_1, y_j)}}{a(y_j; x_{\\ne j}, \\alpha)}$$\n",
        "Instead of just using $(x_1, y_1)$ as the only positive example, we can use all samples from the joint in the minibatch: $(x_i, y_i)$. Summing over the $K$ elements which are not the element we are holding out for the second expectation ($y_j$), yields:\n",
        "$$1 + \\frac{1}{K}\\sum_{i\\ne j} \\left(\\log \\frac{e^{f(x_i, y_i)}}{a(y_i; x_{\\ne j}, \\alpha)} - \\frac{e^{f(x_i, y_j)}}{a(y_j; x_{\\ne j}, \\alpha)}\\right)$$\n",
        "\n",
        "Furthermore, in the minibatch setting we can choose any element in the minibatch to hold out for the second expectation. Summing over all possible (leave one out) combinations yields:\n",
        "$$1 + \\frac{1}{K+1} \\sum_{j=1}^{K+1} \\frac{1}{K}\\sum_{i\\ne j} \\left(\\log \\frac{e^{f(x_i, y_i)}}{a(y_i; x_{\\ne j}, \\alpha)} - \\frac{e^{f(x_i, y_j)}}{a(y_j; x_{\\ne j}, \\alpha)}\\right)$$\n",
        "where the interpolated baseline is given by $a(y; x_{1:M}) = \\alpha \\frac{1}{K} \\sum_{l=1}^K e^{f(x_l, y)} + (1-\\alpha) q(y)$. We work in log-space for numerical stability, using `compute_log_loomean` to compute the leave one out InfoNCE baselines, and `log_interpolate` to compute the log baseline for the interpolated bound."
      ]
    },
    {
      "cell_type": "code",
      "execution_count": 0,
      "metadata": {
        "colab": {},
        "colab_type": "code",
        "id": "V7IME_GqLGHe"
      },
      "outputs": [],
      "source": [
        "def log_interpolate(log_a, log_b, alpha_logit):\n",
        "  \"\"\"Numerically stable implementation of log(alpha * a + (1-alpha) * b).\"\"\"\n",
        "  log_alpha = -tf.nn.softplus(-alpha_logit)\n",
        "  log_1_minus_alpha = -tf.nn.softplus(alpha_logit)\n",
        "  y = tf.reduce_logsumexp(tf.stack((log_alpha + log_a, log_1_minus_alpha + log_b)), axis=0)\n",
        "  return y\n",
        "\n",
        "def compute_log_loomean(scores):\n",
        "  \"\"\"Compute the log leave-one-out mean of the exponentiated scores.\n",
        "\n",
        "  For each column j we compute the log-sum-exp over the row holding out column j.\n",
        "  This is a numerically stable version of:\n",
        "  log_loosum = scores + tfp.math.softplus_inverse(tf.reduce_logsumexp(scores, axis=1, keepdims=True) - scores) \n",
        "  Implementation based on tfp.vi.csiszar_divergence.csiszar_vimco_helper.\n",
        "  \"\"\"\n",
        "  max_scores = tf.reduce_max(scores, axis=1, keepdims=True)\n",
        "  lse_minus_max = tf.reduce_logsumexp(scores - max_scores, axis=1, keepdims=True)\n",
        "  d = lse_minus_max + (max_scores - scores)\n",
        "  d_ok = tf.not_equal(d, 0.)\n",
        "  safe_d = tf.where(d_ok, d, tf.ones_like(d))\n",
        "  loo_lse = scores + tfp.math.softplus_inverse(safe_d)\n",
        "  # Normalize to get the leave one out log mean exp\n",
        "  loo_lme = loo_lse - tf.math.log(scores.shape[1].value - 1.)\n",
        "  return loo_lme\n",
        "\n",
        "def interpolated_lower_bound(scores, baseline, alpha_logit):\n",
        "  \"\"\"Interpolated lower bound on mutual information.\n",
        "\n",
        "  Interpolates between the InfoNCE baseline ( alpha_logit -\u003e -infty),\n",
        "  and the single-sample TUBA baseline (alpha_logit -\u003e infty)\n",
        "\n",
        "  Args:\n",
        "    scores: [batch_size, batch_size] critic scores\n",
        "    baseline: [batch_size] log baseline scores\n",
        "    alpha_logit: logit for the mixture probability\n",
        "\n",
        "  Returns:\n",
        "    scalar, lower bound on MI\n",
        "  \"\"\"\n",
        "  batch_size = scores.shape[0].value\n",
        "  # Compute InfoNCE baseline\n",
        "  nce_baseline = compute_log_loomean(scores)\n",
        "  # Inerpolated baseline interpolates the InfoNCE baseline with a learned baseline\n",
        "  interpolated_baseline = log_interpolate(\n",
        "      nce_baseline, tf.tile(baseline[:, None], (1, batch_size)), alpha_logit)\n",
        "  # Marginal term.\n",
        "  critic_marg = scores - tf.linalg.diag_part(interpolated_baseline)[:, None]\n",
        "  marg_term = tf.exp(reduce_logmeanexp_nodiag(critic_marg))\n",
        "\n",
        "  # Joint term.\n",
        "  critic_joint = tf.linalg.diag_part(scores)[:, None] - interpolated_baseline\n",
        "  joint_term = (tf.reduce_sum(critic_joint) -\n",
        "                tf.reduce_sum(tf.linalg.diag_part(critic_joint))) / (batch_size * (batch_size - 1.))\n",
        "  return 1 + joint_term  - marg_term"
      ]
    },
    {
      "cell_type": "markdown",
      "metadata": {
        "colab_type": "text",
        "id": "mGptVHXy63NE"
      },
      "source": [
        "### JS-KL hybrid lower bound\n",
        "We can also use different approaches for training the critic vs. estimating mutual informaiton. The $I_\\text{JS}$ bound just trains the critic with the standard lower bound on the Jensen-Shannon divergence used in GANs, and then evaluates the critic using the $I_\\text{NWJ}$ lower bound on KL (mutual information). \n",
        "\n",
        "We use a fun trick to simplify the code here:\n",
        "`z = x + tf.stop_gradient(y - x)`.\u003cbr/\u003e\n",
        "`z` gives the value of `y` on the forward pass, but the gradient of `x` on the backward pass."
      ]
    },
    {
      "cell_type": "code",
      "execution_count": 0,
      "metadata": {
        "colab": {},
        "colab_type": "code",
        "id": "GdyDZ8Tt66Dy"
      },
      "outputs": [],
      "source": [
        "def js_fgan_lower_bound(f):\n",
        "  \"\"\"Lower bound on Jensen-Shannon divergence from Nowozin et al. (2016).\"\"\"\n",
        "  f_diag = tf.linalg.tensor_diag_part(f)\n",
        "  first_term = tf.reduce_mean(-tf.nn.softplus(-f_diag))\n",
        "  n = tf.cast(f.shape[0], tf.float32)\n",
        "  second_term = (tf.reduce_sum(tf.nn.softplus(f)) - tf.reduce_sum(tf.nn.softplus(f_diag))) / (n * (n - 1.))\n",
        "  return first_term - second_term\n",
        "\n",
        "def js_lower_bound(f):\n",
        "  \"\"\"NWJ lower bound on MI using critic trained with Jensen-Shannon.\n",
        "\n",
        "  The returned Tensor gives MI estimates when evaluated, but its gradients are\n",
        "  the gradients of the lower bound of the Jensen-Shannon divergence.\"\"\"\n",
        "  js = js_fgan_lower_bound(f)\n",
        "  mi = nwj_lower_bound(f)\n",
        "  return js + tf.stop_gradient(mi - js)"
      ]
    },
    {
      "cell_type": "markdown",
      "metadata": {
        "colab_type": "text",
        "id": "wOraxkkSOb-6"
      },
      "source": [
        "### Structured Bounds\n",
        "\n",
        "See the end of the notebook for code for the structured bounds. The implementation when using these bounds is often different, as we use a known conditional distribution $p(y|x)$ instead of a critic function $f(x, y)$ that scores all pairs of points. For simplicity, we will just demonstrate the minibatch lower bound $I_\\text{TNCE}$, which is equivalent to $I_\\text{NCE}$ but using the critic $f(x,y) = \\log p(y|x)$. "
      ]
    },
    {
      "cell_type": "markdown",
      "metadata": {
        "colab_type": "text",
        "id": "Iu6lcSGvN5cs"
      },
      "source": [
        "### Putting it together"
      ]
    },
    {
      "cell_type": "code",
      "execution_count": 0,
      "metadata": {
        "colab": {},
        "colab_type": "code",
        "id": "kobSvpv6N4SZ"
      },
      "outputs": [],
      "source": [
        "def estimate_mutual_information(estimator, x, y, critic_fn,\n",
        "                                baseline_fn=None, alpha_logit=None):\n",
        "  \"\"\"Estimate variational lower bounds on mutual information.\n",
        "\n",
        "  Args:\n",
        "    estimator: string specifying estimator, one of:\n",
        "      'nwj', 'infonce', 'tuba', 'js', 'interpolated'\n",
        "    x: [batch_size, dim_x] Tensor\n",
        "    y: [batch_size, dim_y] Tensor\n",
        "    critic_fn: callable that takes x and y as input and outputs critic scores\n",
        "      output shape is a [batch_size, batch_size] matrix\n",
        "    baseline_fn (optional): callable that takes y as input \n",
        "      outputs a [batch_size]  or [batch_size, 1] vector\n",
        "    alpha_logit (optional): logit(alpha) for interpolated bound\n",
        "\n",
        "  Returns:\n",
        "    scalar estimate of mutual information\n",
        "  \"\"\"\n",
        "  scores = critic_fn(x, y)\n",
        "  if baseline_fn is not None:\n",
        "    # Some baselines' output is (batch_size, 1) which we remove here.\n",
        "    log_baseline = tf.squeeze(baseline_fn(y))\n",
        "  if estimator == 'infonce':\n",
        "    mi = infonce_lower_bound(scores)\n",
        "  elif estimator == 'nwj':\n",
        "    mi = nwj_lower_bound(scores)\n",
        "  elif estimator == 'tuba':\n",
        "    mi = tuba_lower_bound(scores, log_baseline)\n",
        "  elif estimator == 'js':\n",
        "    mi = js_lower_bound(scores)\n",
        "  elif estimator == 'interpolated':\n",
        "    assert alpha_logit is not None, \"Must specify alpha_logit for interpolated bound.\"\n",
        "    mi = interpolated_lower_bound(scores, log_baseline, alpha_logit)\n",
        "  return mi"
      ]
    },
    {
      "cell_type": "markdown",
      "metadata": {
        "colab_type": "text",
        "id": "r-wyBXaODvL7"
      },
      "source": [
        "## Neural network architectures\n",
        "\n",
        "**Critics**: we consider two choices of neural network architectures for $\\color{blue} f(x,y)$:\n",
        "1. **Separable**: $f(x,y) = g(x)^Th(y)$ where $g$ and $h$ are two different MLPs\n",
        "2. **Concat**: $f(x,y) = g([x, y])$ where we concatenate $x$ and $y$ and feed them into a single MLP\n",
        "\n",
        "Using a separable baseline is typically more efficient, as you only have to do `batch_size` forward passes through each network vs. the `batch_size * batch_size` with the concat critic.\n",
        "\n",
        "**Baselines**: we consider three possibilities for the baseline $\\color{green}a(y)$:\n",
        "1. **Constant**: $a(y)$ is a fixed constant (as in $I_\\text{NWJ}$)\n",
        "2. **Unnormalized**: $a(y)$ is a neural network that produces a scalar output (representing $\\log a(y)$)\n",
        "3. **Gaussian**: $a(y)$ is a Gaussian distribution. Here we fix the mean and variance to be 1, but you could use any tractable density with learnable parameters as well."
      ]
    },
    {
      "cell_type": "markdown",
      "metadata": {
        "colab_type": "text",
        "id": "LwSIGeXlD11E"
      },
      "source": [
        "### Critics"
      ]
    },
    {
      "cell_type": "code",
      "execution_count": 0,
      "metadata": {
        "colab": {},
        "colab_type": "code",
        "id": "D7KNSf6kAhVD"
      },
      "outputs": [],
      "source": [
        "def mlp(hidden_dim, output_dim, layers, activation):\n",
        "  return tf.keras.Sequential(\n",
        "      [tfkl.Dense(hidden_dim, activation) for _ in range(layers)] +\n",
        "      [tfkl.Dense(output_dim)])\n",
        "   \n",
        "\n",
        "class SeparableCritic(tf.keras.Model):\n",
        "  def __init__(self, hidden_dim, embed_dim, layers, activation, **extra_kwargs):\n",
        "    super(SeparableCritic, self).__init__()\n",
        "    self._g = mlp(hidden_dim, embed_dim, layers, activation)\n",
        "    self._h = mlp(hidden_dim, embed_dim, layers, activation)\n",
        "\n",
        "  def call(self, x, y):\n",
        "    scores = tf.matmul(self._h(y), self._g(x), transpose_b=True)\n",
        "    return scores\n",
        "\n",
        "\n",
        "class ConcatCritic(tf.keras.Model):\n",
        "  def __init__(self, hidden_dim, layers, activation, **extra_kwargs):\n",
        "    super(ConcatCritic, self).__init__()\n",
        "    # output is scalar score\n",
        "    self._f = mlp(hidden_dim, 1, layers, activation)\n",
        "\n",
        "  def call(self, x, y):\n",
        "    batch_size = tf.shape(x)[0]\n",
        "    # Tile all possible combinations of x and y\n",
        "    x_tiled = tf.tile(x[None, :],  (batch_size, 1, 1))\n",
        "    y_tiled = tf.tile(y[:, None],  (1, batch_size, 1))\n",
        "    # xy is [batch_size * batch_size, x_dim + y_dim]\n",
        "    xy_pairs = tf.reshape(tf.concat((x_tiled, y_tiled), axis=2), [batch_size * batch_size, -1])\n",
        "    # Compute scores for each x_i, y_j pair.\n",
        "    scores = self._f(xy_pairs) \n",
        "    return tf.transpose(tf.reshape(scores, [batch_size, batch_size]))\n",
        "\n",
        "\n",
        "def gaussian_log_prob_pairs(dists, x):\n",
        "  \"\"\"Compute log probability for all pairs of distributions and samples.\"\"\"\n",
        "  mu, sigma = dists.mean(), dists.stddev()\n",
        "  sigma2 = sigma**2\n",
        "  normalizer_term = tf.reduce_sum(-0.5 * (np.log(2. * np.pi) + 2.0 *  tf.math.log(sigma)), axis=1)[None, :]\n",
        "  x2_term = -tf.matmul(x**2, 1.0 / (2 * sigma2), transpose_b=True)\n",
        "  mu2_term = - tf.reduce_sum(mu**2 / (2 * sigma2), axis=1)[None, :]\n",
        "  cross_term = tf.matmul(x, mu / sigma2, transpose_b=True)\n",
        "  log_prob = normalizer_term + x2_term + mu2_term + cross_term\n",
        "  return log_prob\n",
        "\n",
        "  \n",
        "def build_log_prob_conditional(rho, **extra_kwargs):\n",
        "  \"\"\"True conditional distribution.\"\"\"\n",
        "  def log_prob_conditional(x, y):\n",
        "    mu = x * rho\n",
        "    q_y = tfd.MultivariateNormalDiag(mu, tf.ones_like(mu) * tf.cast(tf.sqrt(1.0 - rho**2), tf.float32))\n",
        "    return gaussian_log_prob_pairs(q_y, y)\n",
        "  return log_prob_conditional\n",
        "  \n",
        "\n",
        "CRITICS = {\n",
        "    'separable': SeparableCritic,\n",
        "    'concat': ConcatCritic,\n",
        "    'conditional': build_log_prob_conditional,\n",
        "}"
      ]
    },
    {
      "cell_type": "markdown",
      "metadata": {
        "colab_type": "text",
        "id": "YUuCpQG1D4Ei"
      },
      "source": [
        "### Baselines"
      ]
    },
    {
      "cell_type": "code",
      "execution_count": 0,
      "metadata": {
        "colab": {},
        "colab_type": "code",
        "id": "kDq3q7iZXCk2"
      },
      "outputs": [],
      "source": [
        "def log_prob_gaussian(x):\n",
        "  return tf.reduce_sum(tfd.Normal(0., 1.).log_prob(x), -1)\n",
        "\n",
        "BASELINES= {\n",
        "    'constant': lambda: None,\n",
        "    'unnormalized': lambda: mlp(hidden_dim=512, output_dim=1, layers=2, activation='relu'),\n",
        "    'gaussian': lambda: log_prob_gaussian,\n",
        "}"
      ]
    },
    {
      "cell_type": "markdown",
      "metadata": {
        "colab_type": "text",
        "id": "mrbYIKjEXye3"
      },
      "source": [
        "## Experiments"
      ]
    },
    {
      "cell_type": "markdown",
      "metadata": {
        "colab_type": "text",
        "id": "T8mMQ1djD7qH"
      },
      "source": [
        "### Dataset: correlated Gaussian\n",
        "We experiment with a super simple correlated Gaussian dataset:\n",
        "\\begin{align}\n",
        "x \u0026\\sim \\mathcal{N}(0, I_d)\\\\\n",
        "y \u0026\\sim \\mathcal{N}(\\rho x, (1 - \\rho^2) I_d)\n",
        "\\end{align}\n",
        "where $d$ is the dimensionality, and $\\rho$ is the correlation. Each pair of dimensions $(x_i, y_i)$ has correlation $\\rho$, and correlation 0 with all other dimensions. We can control the information by varying the correlation $\\rho$:\n",
        "$$I(X; Y) = -\\frac{d}{2} \\log \\left(1 - \\rho^2\\right)$$"
      ]
    },
    {
      "cell_type": "code",
      "execution_count": 0,
      "metadata": {
        "colab": {},
        "colab_type": "code",
        "id": "B5L2rjiLLcFZ"
      },
      "outputs": [],
      "source": [
        "def sample_correlated_gaussian(rho=0.5, dim=20, batch_size=128):\n",
        "  \"\"\"Generate samples from a correlated Gaussian distribution.\"\"\"\n",
        "  x, eps = tf.split(tf.random.normal((batch_size, 2 * dim)), 2, axis=1)\n",
        "  y = rho * x + tf.sqrt(tf.cast(1. - rho**2, tf.float32)) * eps\n",
        "  return x, y\n",
        "\n",
        "def rho_to_mi(dim, rho):\n",
        "  return -0.5  * np.log(1-rho**2) * dim\n",
        "\n",
        "def mi_to_rho(dim, mi):\n",
        "  return np.sqrt(1-np.exp(-2.0 / dim * mi))\n",
        "\n",
        "def mi_schedule(n_iter):\n",
        "  \"\"\"Generate schedule for increasing correlation over time.\"\"\"\n",
        "  mis = np.round(np.linspace(0.5, 5.5-1e-9, n_iter)) *2.0#0.1\n",
        "  return mis.astype(np.float32)"
      ]
    },
    {
      "cell_type": "code",
      "execution_count": 11,
      "metadata": {
        "colab": {
          "height": 229
        },
        "colab_type": "code",
        "executionInfo": {
          "elapsed": 3215,
          "status": "ok",
          "timestamp": 1561485649269,
          "user": {
            "displayName": "",
            "photoUrl": "",
            "userId": ""
          },
          "user_tz": 420
        },
        "id": "do1lJdz9P3aY",
        "outputId": "3b4dea28-4135-4d8d-a1fb-881161a8e58a"
      },
      "outputs": [
        {
          "data": {
            "image/png": "[encoded data removed]",
            "text/plain": [
              "\u003cFigure size 600x300 with 2 Axes\u003e"
            ]
          },
          "metadata": {
            "tags": []
          },
          "output_type": "display_data"
        }
      ],
      "source": [
        "plt.figure(figsize=(6,3))\n",
        "for i, rho in enumerate([0.5, 0.99]):\n",
        "  plt.subplot(1, 2, i + 1)\n",
        "  x, y = sample_correlated_gaussian(batch_size=500, dim=1, rho=rho)\n",
        "  plt.scatter(x[:, 0], y[:, 0])\n",
        "  plt.title(r'$\\rho=%.2f$,  $I(X; Y)=%.1f$' % (rho, rho_to_mi(1, rho)))\n",
        "  plt.xlim(-3, 3); plt.ylim(-3, 3);"
      ]
    },
    {
      "cell_type": "markdown",
      "metadata": {
        "colab_type": "text",
        "id": "E_3UiG_O0LcM"
      },
      "source": [
        "### Training code"
      ]
    },
    {
      "cell_type": "code",
      "execution_count": 0,
      "metadata": {
        "colab": {},
        "colab_type": "code",
        "id": "BEuLXbHdkodA"
      },
      "outputs": [],
      "source": [
        "def train_estimator(critic_params, data_params, mi_params):\n",
        "  \"\"\"Main training loop that estimates time-varying MI.\"\"\"\n",
        "  # Ground truth rho is only used by conditional critic\n",
        "  critic = CRITICS[mi_params.get('critic', 'concat')](rho=None, **critic_params)\n",
        "  baseline = BASELINES[mi_params.get('baseline', 'constant')]()\n",
        "  \n",
        "  opt = tf.keras.optimizers.Adam(opt_params['learning_rate'])\n",
        "  \n",
        "  @tf.function\n",
        "  def train_step(rho, data_params, mi_params):\n",
        "    # Annoying special case:\n",
        "    # For the true conditional, the critic depends on the true correlation rho,\n",
        "    # so we rebuild the critic at each iteration.\n",
        "    if mi_params['critic'] == 'conditional':\n",
        "      critic_ = CRITICS['conditional'](rho=rho)\n",
        "    else:\n",
        "      critic_ = critic\n",
        "    \n",
        "    with tf.GradientTape() as tape:\n",
        "      x, y = sample_correlated_gaussian(dim=data_params['dim'], rho=rho, batch_size=data_params['batch_size'])\n",
        "      mi = estimate_mutual_information(mi_params['estimator'], x, y, critic_, baseline, mi_params.get('alpha_logit', None))\n",
        "      loss = -mi\n",
        "  \n",
        "      trainable_vars = []\n",
        "      if isinstance(critic, tf.keras.Model):\n",
        "        trainable_vars += critic.trainable_variables \n",
        "      if isinstance(baseline, tf.keras.Model):\n",
        "        trainable_vars += baseline.trainable_variables\n",
        "      grads = tape.gradient(loss, trainable_vars)\n",
        "      opt.apply_gradients(zip(grads, trainable_vars))\n",
        "    return mi\n",
        "  \n",
        "  # Schedule of correlation over iterations \n",
        "  mis = mi_schedule(opt_params['iterations'])\n",
        "  rhos = mi_to_rho(data_params['dim'], mis)\n",
        "  \n",
        "  estimates = []\n",
        "  for i in range(opt_params['iterations']):\n",
        "    estimates.append(train_step(rhos[i], data_params, mi_params).numpy())\n",
        "\n",
        "  return np.array(estimates)"
      ]
    },
    {
      "cell_type": "markdown",
      "metadata": {
        "colab_type": "text",
        "id": "hoRt2Xqy8TKV"
      },
      "source": [
        "Dataset, optimization, and critic parameters. Try experimenting with these."
      ]
    },
    {
      "cell_type": "code",
      "execution_count": 0,
      "metadata": {
        "colab": {},
        "colab_type": "code",
        "id": "BWVf4SqJ2VSV"
      },
      "outputs": [],
      "source": [
        "data_params = {\n",
        "    'dim': 20,\n",
        "    'batch_size': 64,\n",
        "}\n",
        "\n",
        "critic_params = {\n",
        "    'layers': 2,\n",
        "    'embed_dim': 32,\n",
        "    'hidden_dim': 256,\n",
        "    'activation': 'relu',\n",
        "}\n",
        "\n",
        "opt_params = {\n",
        "    'iterations': 20000,\n",
        "    'learning_rate': 5e-4,\n",
        "}"
      ]
    },
    {
      "cell_type": "markdown",
      "metadata": {
        "colab_type": "text",
        "id": "JjipPYg37_dp"
      },
      "source": [
        "Build a dictionary of the mutual information estimators to train and their parameters."
      ]
    },
    {
      "cell_type": "code",
      "execution_count": 0,
      "metadata": {
        "colab": {},
        "colab_type": "code",
        "id": "wxHm0B6BSXW9"
      },
      "outputs": [],
      "source": [
        "critic_type = 'concat' # or 'separable'\n",
        "\n",
        "estimators = {\n",
        "    'NWJ': dict(estimator='nwj', critic=critic_type, baseline='constant'),\n",
        "    'TUBA': dict(estimator='tuba', critic=critic_type, baseline='unnormalized'),\n",
        "    'InfoNCE': dict(estimator='infonce', critic=critic_type, baseline='constant'),\n",
        "    'JS': dict(estimator='js', critic=critic_type, baseline='constant'),\n",
        "    'TNCE': dict(estimator='infonce', critic='conditional', baseline='constant'),\n",
        "    # Optimal critic for TUBA\n",
        "    #'TUBA_opt': dict(estimator='tuba', critic='conditional', baseline='gaussian')\n",
        "}\n",
        "\n",
        "# Add interpolated bounds\n",
        "def sigmoid(x):\n",
        "  return 1/(1. + np.exp(-x))\n",
        "for alpha_logit in [-5., 0., 5.]:\n",
        "  name = 'alpha=%.2f' % sigmoid(alpha_logit)\n",
        "  estimators[name] = dict(estimator='interpolated', critic=critic_type,\n",
        "                          alpha_logit=alpha_logit, baseline='unnormalized')"
      ]
    },
    {
      "cell_type": "markdown",
      "metadata": {
        "colab_type": "text",
        "id": "lsJmWnvr8LsV"
      },
      "source": [
        "Train each estimator and store mutual information estimates (this takes ~2 minutes on a modern GPU)."
      ]
    },
    {
      "cell_type": "code",
      "execution_count": 15,
      "metadata": {
        "colab": {
          "height": 153
        },
        "colab_type": "code",
        "executionInfo": {
          "elapsed": 273274,
          "status": "ok",
          "timestamp": 1561485923767,
          "user": {
            "displayName": "",
            "photoUrl": "",
            "userId": ""
          },
          "user_tz": 420
        },
        "id": "ToS0lWq58K9b",
        "outputId": "a6c6a57e-f0e2-4c82-9341-a0e84d918f72"
      },
      "outputs": [
        {
          "name": "stdout",
          "output_type": "stream",
          "text": [
            "Training NWJ...\n",
            "Training TUBA...\n",
            "Training InfoNCE...\n",
            "Training JS...\n",
            "Training TNCE...\n",
            "Training alpha=0.01...\n",
            "Training alpha=0.50...\n",
            "Training alpha=0.99...\n"
          ]
        }
      ],
      "source": [
        "estimates = {}\n",
        "for estimator, mi_params in estimators.items():\n",
        "  print(\"Training %s...\" % estimator)\n",
        "  estimates[estimator] = train_estimator(critic_params, data_params, mi_params)"
      ]
    },
    {
      "cell_type": "markdown",
      "metadata": {
        "colab_type": "text",
        "id": "QpCGVeUc0Tdc"
      },
      "source": [
        "### Results"
      ]
    },
    {
      "cell_type": "code",
      "execution_count": 17,
      "metadata": {
        "colab": {
          "height": 442
        },
        "colab_type": "code",
        "executionInfo": {
          "elapsed": 1978,
          "status": "ok",
          "timestamp": 1561486375196,
          "user": {
            "displayName": "",
            "photoUrl": "",
            "userId": ""
          },
          "user_tz": 420
        },
        "id": "1fDDK1rAiZFT",
        "outputId": "eb57d1ed-0c84-4aff-e83e-de6d35e42d30"
      },
      "outputs": [
        {
          "data": {
            "image/png": "[encoded data removed]",
            "text/plain": [
              "\u003cFigure size 1080x600 with 8 Axes\u003e"
            ]
          },
          "metadata": {
            "tags": []
          },
          "output_type": "display_data"
        }
      ],
      "source": [
        "# Smooting span for Exponential Moving Average\n",
        "EMA_SPAN = 200\n",
        "\n",
        "# Ground truth MI\n",
        "mi_true = mi_schedule(opt_params['iterations'])\n",
        "\n",
        "# Names specifies the key and ordering for plotting estimators\n",
        "names = np.sort(list(estimators.keys()))\n",
        "lnames = list(map(lambda s: s.replace('alpha', '$\\\\alpha$'), names))\n",
        "\n",
        "nrows = min(2, len(estimates))\n",
        "ncols = int(np.ceil(len(estimates) / float(nrows)))\n",
        "fig, axs = plt.subplots(nrows, ncols, figsize=(2.7 * ncols, 3 * nrows)) \n",
        "if len(estimates) == 1:\n",
        "  axs = [axs]\n",
        "axs = np.ravel(axs)\n",
        "  \n",
        "for i, name in enumerate(names):\n",
        "  plt.sca(axs[i])\n",
        "  plt.title(lnames[i])\n",
        "  # Plot estimated MI and smoothed MI\n",
        "  mis = estimates[name]  \n",
        "  mis_smooth = pd.Series(mis).ewm(span=EMA_SPAN).mean()\n",
        "  p1 = plt.plot(mis, alpha=0.3)[0]\n",
        "  plt.plot(mis_smooth, c=p1.get_color())\n",
        "  # Plot true MI and line for log(batch size)\n",
        "  plt.plot(mi_true, color='k', label='True MI')\n",
        "  estimator = estimators[name]['estimator']\n",
        "  if 'interpolated' in estimator or 'nce' in estimator:\n",
        "    # Add theoretical upper bound lines\n",
        "    if 'interpolated' in estimator:\n",
        "      log_alpha = -np.log( 1+ tf.exp(-estimators[name]['alpha_logit']))\n",
        "    else:\n",
        "      log_alpha = 1.\n",
        "    plt.axhline(1 + np.log(data_params['batch_size']) - log_alpha, c='k', linestyle='--', label=r'1 + log(K/$\\alpha$)' )\n",
        "  plt.ylim(-1, mi_true.max()+1)\n",
        "  plt.xlim(0, opt_params['iterations'])\n",
        "  if i == len(estimates) - ncols:\n",
        "    plt.xlabel('steps')\n",
        "    plt.ylabel('Mutual information (nats)')\n",
        "plt.legend(loc='best', fontsize=8, framealpha=0.0)\n",
        "plt.gcf().tight_layout();"
      ]
    },
    {
      "cell_type": "markdown",
      "metadata": {
        "colab_type": "text",
        "id": "ROkb4-mMr4_w"
      },
      "source": [
        "## Structured Bounds\n",
        "\n",
        "The structured lower bounds use known conditional and learned marginal distributions to lower and upper bound mutual information. Check back soon for some more examples with these bounds!"
      ]
    },
    {
      "cell_type": "code",
      "execution_count": 0,
      "metadata": {
        "colab": {},
        "colab_type": "code",
        "id": "4FtDiO6jVbEB"
      },
      "outputs": [],
      "source": [
        "def log_prob_pairs(dists, samples):\n",
        "  if isinstance(dists, (tfd.Normal, tfd.MultivariateNormalDiag)):\n",
        "    return gaussian_log_prob_pairs(dists, samples)\n",
        "  batch_size = tf.shape(samples)[0]\n",
        "  multiples = [1] * (1 + len(samples.get_shape().as_list()))\n",
        "  multiples[1] = tf.shape(samples)[0]\n",
        "  samples_tiled = tf.tile(samples[:, None], multiples)\n",
        "  # Compute log probs, size [batch_size, batch_size]\n",
        "  log_probs = dists.log_prob(samples_tiled)\n",
        "  return log_probs\n",
        "\n",
        "def variational_upper_bound(conditional_dist, marginal_dist, samples):\n",
        "  \"\"\"Variational upper bound on mutual information.\n",
        "\n",
        "  Args:\n",
        "    conditional_dist: true conditional density, p(y|x)\n",
        "    marginal_dist: approximate marginal density, m(y)\n",
        "    samples: samples from the conditional distribution p(y|x)\n",
        "\n",
        "  Returns:\n",
        "    scalar, upper bound on mutual information\n",
        "  \"\"\"\n",
        "  return tf.reduce_mean(conditional_dist.log_prob(samples) -\n",
        "                        marginal_dist.log_prob(samples))\n",
        "\n",
        "\n",
        "def minibatch_upper_bound(conditional_dist, samples):\n",
        "  \"\"\"Minibatch upper bound on mutual information.\n",
        "\n",
        "  Args:\n",
        "    conditional_dist: approximate conditional density, e(y|x)\n",
        "    samples: samples from conditional_dist\n",
        "\n",
        "  Returns:\n",
        "    scalar, upper bound on mutual information\n",
        "  \"\"\"\n",
        "  log_probs = log_prob_pairs(conditional_dist, samples)\n",
        "  # Batch marginal holds out self (along diagonal), and averages over\n",
        "  # all other elements in the batch.\n",
        "  mask = tf.eye(tf.shape(samples)[0])\n",
        "  log_prob_marginal = tf.reduce_mean(reduce_logmeanexp_nodiag(log_probs, axis=1))\n",
        "  log_prob_cond = tf.reduce_mean(tf.linalg.tensor_diag_part(log_probs))\n",
        "  return log_prob_cond - log_prob_marginal\n",
        "\n",
        "def minibatch_lower_bound(conditional_dist, samples):\n",
        "  \"\"\"Minibatch lower bound on mutual information.\n",
        "\n",
        "  Args:\n",
        "    conditional_dist: approximate conditional density, e(y|x)\n",
        "    samples: samples from conditional_dist\n",
        "\n",
        "  Returns:\n",
        "    scalar, lower bound on mutual information\n",
        "  \"\"\"\n",
        "  batch_marginal_dist = tfd.MixtureSameFamily(\n",
        "      mixture_distribution=tfd.Categorical(logits=tf.zeros(conditional_dist.batch_shape)),\n",
        "      components_distribution=conditional_dist)\n",
        "  return variational_upper_bound(conditional_dist, batch_marginal_dist, samples)"
      ]
    }
  ],
  "metadata": {
    "accelerator": "GPU",
    "colab": {
      "collapsed_sections": [
        "ULndVKL12doD",
        "IfHEX-0eaOHP",
        "KgnZ2S_KF5-y",
        "wOraxkkSOb-6",
        "ROkb4-mMr4_w"
      ],
      "last_runtime": {
        "build_target": "//learning/brain/python/client:colab_notebook_py3",
        "kind": "private"
      },
      "name": "Variational Bounds of Mutual Information Demo",
      "provenance": [],
      "toc_visible": true,
      "version": "0.3.2"
    },
    "kernelspec": {
      "display_name": "Python 2",
      "name": "python2"
    }
  },
  "nbformat": 4,
  "nbformat_minor": 0
}
