{
  "nbformat": 4,
  "nbformat_minor": 0,
  "metadata": {
    "colab": {
      "name": "regularized_evolution_algorithm.ipynb",
      "version": "0.3.2",
      "provenance": [],
      "collapsed_sections": []
    },
    "kernelspec": {
      "name": "python3",
      "display_name": "Python 3"
    }
  },
  "cells": [
    {
      "metadata": {
        "id": "46lPbgGTF2He",
        "colab_type": "text"
      },
      "cell_type": "markdown",
      "source": [
        "Copyright 2018 Google LLC\n",
        "\n",
        "Licensed under the Apache License, Version 2.0 (the \"License\");\n",
        "you may not use this file except in compliance with the License.\n",
        "You may obtain a copy of the License at\n",
        "\n",
        "    https://www.apache.org/licenses/LICENSE-2.0\n",
        "\n",
        "Unless required by applicable law or agreed to in writing, software\n",
        "distributed under the License is distributed on an \"AS IS\" BASIS,\n",
        "WITHOUT WARRANTIES OR CONDITIONS OF ANY KIND, either express or implied.\n",
        "See the License for the specific language governing permissions and\n",
        "limitations under the License."
      ]
    },
    {
      "metadata": {
        "id": "K_6EyDK_B3fI",
        "colab_type": "text"
      },
      "cell_type": "markdown",
      "source": [
        "# Summary"
      ]
    },
    {
      "metadata": {
        "id": "eizp75WbBwaB",
        "colab_type": "text"
      },
      "cell_type": "markdown",
      "source": [
        "This document contains the code of the regularized evolution (i.e. aging evolution) algorithm used in:\n",
        "\n",
        "[E. Real, A. Aggarwal, Y. Huang, and Q. V. Le 2018. Regularized Evolution for Image Classifier Architecture Search](https://arxiv.org/abs/1802.01548).\n",
        "\n",
        "It demonstrates the application of the algorithm in a toy search space that can be run quickly in a single machine."
      ]
    },
    {
      "metadata": {
        "id": "VUdox1uMAMqF",
        "colab_type": "text"
      },
      "cell_type": "markdown",
      "source": [
        "# Toy Search Space"
      ]
    },
    {
      "metadata": {
        "id": "YtacawXFAQbg",
        "colab_type": "text"
      },
      "cell_type": "markdown",
      "source": [
        "For a simple problem to use for illustration purposes, we use the toy search space of appendix C. In it, toy models have a simulated architecture (bit-string) and a simulated accuracy (the number of 1s in the bit-string, with some additional random noise), as described below."
      ]
    },
    {
      "metadata": {
        "id": "d0uYu1WisqLa",
        "colab_type": "code",
        "colab": {}
      },
      "cell_type": "code",
      "source": [
        "DIM = 100  # Number of bits in the bit strings (i.e. the \"models\").\n",
        "NOISE_STDEV = 0.01  # Standard deviation of the simulated training noise.\n",
        "\n",
        "class Model(object):\n",
        "  \"\"\"A class representing a model.\n",
        "  \n",
        "  It holds two attributes: `arch` (the simulated architecture) and `accuracy`\n",
        "  (the simulated accuracy / fitness). See Appendix C for an introduction to\n",
        "  this toy problem.\n",
        "  \n",
        "  In the real case of neural networks, `arch` would instead hold the\n",
        "  architecture of the normal and reduction cells of a neural network and\n",
        "  accuracy would be instead the result of training the neural net and\n",
        "  evaluating it on the validation set.\n",
        "  \n",
        "  We do not include test accuracies here as they are not used by the algorithm\n",
        "  in any way. In the case of real neural networks, the test accuracy is only\n",
        "  used for the purpose of reporting / plotting final results.\n",
        "\n",
        "  In the context of evolutionary algorithms, a model is often referred to as\n",
        "  an \"individual\".\n",
        "\n",
        "  Attributes:\n",
        "    arch: the architecture as an int representing a bit-string of length `DIM`.\n",
        "        As a result, the integers are required to be less than `2**DIM`. They\n",
        "        can be visualized as strings of 0s and 1s by calling `print(model)`,\n",
        "        where `model` is an instance of this class.\n",
        "    accuracy:  the simulated validation accuracy. This is the sum of the\n",
        "        bits in the bit-string, divided by DIM to produce a value in the\n",
        "        interval [0.0, 1.0]. After that, a small amount of Gaussian noise is\n",
        "        added with mean 0.0 and standard deviation `NOISE_STDEV`. The resulting\n",
        "        number is clipped to within [0.0, 1.0] to produce the final validation\n",
        "        accuracy of the model. A given model will have a fixed validation\n",
        "        accuracy but two models that have the same architecture will generally\n",
        "        have different validation accuracies due to this noise. In the context\n",
        "        of evolutionary algorithms, this is often known as the \"fitness\".\n",
        "  \"\"\"\n",
        "  def __init__(self):\n",
        "    self.arch = None\n",
        "    self.accuracy = None\n",
        "    \n",
        "  def __str__(self):\n",
        "    \"\"\"Prints a readable version of this bitstring.\"\"\"\n",
        "    return '{0:b}'.format(self.arch)\n",
        "  \n",
        "def train_and_eval(arch):\n",
        "  \"\"\"Simulates training and evaluation.\n",
        "  \n",
        "  Computes the simulated validation accuracy of the given architecture. See\n",
        "  the `accuracy` attribute in `Model` class for details.\n",
        "  \n",
        "  Args:\n",
        "    arch: the architecture as an int representing a bit-string.\n",
        "  \"\"\"\n",
        "  accuracy =  float(_sum_bits(arch)) / float(DIM)\n",
        "  accuracy += random.gauss(mu=0.0, sigma=NOISE_STDEV)\n",
        "  accuracy = 0.0 if accuracy < 0.0 else accuracy\n",
        "  accuracy = 1.0 if accuracy > 1.0 else accuracy\n",
        "  return accuracy\n",
        "\n",
        "def _sum_bits(arch):\n",
        "  \"\"\"Returns the number of 1s in the bit string.\n",
        "  \n",
        "  Args:\n",
        "    arch: an int representing the bit string.\n",
        "  \"\"\"\n",
        "  total = 0\n",
        "  for _ in range(DIM):\n",
        "    total += arch & 1\n",
        "    arch = (arch >> 1)\n",
        "  return total"
      ],
      "execution_count": 0,
      "outputs": []
    },
    {
      "metadata": {
        "id": "f3SA6aWmArnW",
        "colab_type": "text"
      },
      "cell_type": "markdown",
      "source": [
        "# Search Space Traversal"
      ]
    },
    {
      "metadata": {
        "id": "jkNYKtGtAzUs",
        "colab_type": "text"
      },
      "cell_type": "markdown",
      "source": [
        "Below we define a function to generate random architectures in the basic search space and a function to mutate architectures within the search space."
      ]
    },
    {
      "metadata": {
        "id": "FXACEXwy201a",
        "colab_type": "code",
        "colab": {}
      },
      "cell_type": "code",
      "source": [
        "import random\n",
        "\n",
        "def random_architecture():\n",
        "  \"\"\"Returns a random architecture (bit-string) represented as an int.\"\"\"\n",
        "  return random.randint(0, 2**DIM - 1)\n",
        "\n",
        "def mutate_arch(parent_arch):\n",
        "  \"\"\"Computes the architecture for a child of the given parent architecture.\n",
        "\n",
        "  The parent architecture is cloned and mutated to produce the child\n",
        "  architecture. The child architecture is mutated by flipping a randomly chosen\n",
        "  bit in its bit-string.\n",
        "\n",
        "  Args:\n",
        "    parent_arch: an int representing the architecture (bit-string) of the\n",
        "        parent.\n",
        "\n",
        "  Returns:\n",
        "    An int representing the architecture (bit-string) of the child.\n",
        "  \"\"\"\n",
        "  position = random.randint(0, DIM - 1)  # Index of the bit to flip.\n",
        "  \n",
        "  # Flip the bit at position `position` in `child_arch`.\n",
        "  child_arch = parent_arch ^ (1 << position)\n",
        "  \n",
        "  return child_arch"
      ],
      "execution_count": 0,
      "outputs": []
    },
    {
      "metadata": {
        "id": "T2ciQCkqBSDe",
        "colab_type": "text"
      },
      "cell_type": "markdown",
      "source": [
        "# Regularized Evolution Algorithm"
      ]
    },
    {
      "metadata": {
        "id": "aHxYBucT-x5R",
        "colab_type": "text"
      },
      "cell_type": "markdown",
      "source": [
        "The regularized evolution (i.e. aging evolution) algorithm can be written as:"
      ]
    },
    {
      "metadata": {
        "id": "6dr709ay2ahZ",
        "colab_type": "code",
        "colab": {}
      },
      "cell_type": "code",
      "source": [
        "import collections\n",
        "import random\n",
        "\n",
        "def regularized_evolution(cycles, population_size, sample_size):\n",
        "  \"\"\"Algorithm for regularized evolution (i.e. aging evolution).\n",
        "  \n",
        "  Follows \"Algorithm 1\" in Real et al. \"Regularized Evolution for Image\n",
        "  Classifier Architecture Search\".\n",
        "  \n",
        "  Args:\n",
        "    cycles: the number of cycles the algorithm should run for.\n",
        "    population_size: the number of individuals to keep in the population.\n",
        "    sample_size: the number of individuals that should participate in each\n",
        "        tournament.\n",
        "\n",
        "  Returns:\n",
        "    history: a list of `Model` instances, representing all the models computed\n",
        "        during the evolution experiment.\n",
        "  \"\"\"\n",
        "  population = collections.deque()\n",
        "  history = []  # Not used by the algorithm, only used to report results.\n",
        "\n",
        "  # Initialize the population with random models.\n",
        "  while len(population) < population_size:\n",
        "    model = Model()\n",
        "    model.arch = random_architecture()\n",
        "    model.accuracy = train_and_eval(model.arch)\n",
        "    population.append(model)\n",
        "    history.append(model)\n",
        "\n",
        "  # Carry out evolution in cycles. Each cycle produces a model and removes\n",
        "  # another.\n",
        "  while len(history) < cycles:\n",
        "    # Sample randomly chosen models from the current population.\n",
        "    sample = []\n",
        "    while len(sample) < sample_size:\n",
        "      # Inefficient, but written this way for clarity. In the case of neural\n",
        "      # nets, the efficiency of this line is irrelevant because training neural\n",
        "      # nets is the rate-determining step.\n",
        "      candidate = random.choice(list(population))\n",
        "      sample.append(candidate)\n",
        "\n",
        "    # The parent is the best model in the sample.\n",
        "    parent = max(sample, key=lambda i: i.accuracy)\n",
        "\n",
        "    # Create the child model and store it.\n",
        "    child = Model()\n",
        "    child.arch = mutate_arch(parent.arch)\n",
        "    child.accuracy = train_and_eval(child.arch)\n",
        "    population.append(child)\n",
        "    history.append(child)\n",
        "\n",
        "    # Remove the oldest model.\n",
        "    population.popleft()\n",
        "\n",
        "  return history"
      ],
      "execution_count": 0,
      "outputs": []
    },
    {
      "metadata": {
        "id": "0ptMGABxBV61",
        "colab_type": "text"
      },
      "cell_type": "markdown",
      "source": [
        "# Example Run on the Toy Search Space"
      ]
    },
    {
      "metadata": {
        "id": "ykQshJgS-1W1",
        "colab_type": "text"
      },
      "cell_type": "markdown",
      "source": [
        "We run the algorithm for 1000 samples, setting the population size and sample size parameters to reasonable values."
      ]
    },
    {
      "metadata": {
        "id": "1izV1iKqFSgS",
        "colab_type": "code",
        "colab": {}
      },
      "cell_type": "code",
      "source": [
        "history = regularized_evolution(\n",
        "    cycles=1000, population_size=100, sample_size=10)"
      ],
      "execution_count": 0,
      "outputs": []
    },
    {
      "metadata": {
        "id": "5YUKkL0_-UMH",
        "colab_type": "text"
      },
      "cell_type": "markdown",
      "source": [
        "We plot the progress of the experiment, showing how the accuracy improved gradually:"
      ]
    },
    {
      "metadata": {
        "id": "ZXKj2rddziLV",
        "colab_type": "code",
        "outputId": "3ea1d3a6-134d-433a-d6a9-178d8f9f7d88",
        "colab": {
          "base_uri": "https://localhost:8080/",
          "height": 445
        }
      },
      "cell_type": "code",
      "source": [
        "import matplotlib.pyplot as plt\n",
        "import matplotlib.ticker as ticker\n",
        "import seaborn as sns\n",
        "sns.set_style('white')\n",
        "xvalues = range(len(history))\n",
        "yvalues = [i.accuracy for i in history]\n",
        "ax = plt.gca()\n",
        "ax.scatter(\n",
        "    xvalues, yvalues, marker='.', facecolor=(0.0, 0.0, 0.0),\n",
        "    edgecolor=(0.0, 0.0, 0.0), linewidth=1, s=1)\n",
        "ax.xaxis.set_major_locator(ticker.LinearLocator(numticks=2))\n",
        "ax.xaxis.set_major_formatter(ticker.ScalarFormatter())\n",
        "ax.yaxis.set_major_locator(ticker.LinearLocator(numticks=2))\n",
        "ax.yaxis.set_major_formatter(ticker.ScalarFormatter())\n",
        "fig = plt.gcf()\n",
        "fig.set_size_inches(8, 6)\n",
        "fig.tight_layout()\n",
        "ax.tick_params(\n",
        "    axis='x', which='both', bottom='on', top='off', labelbottom='on',\n",
        "    labeltop='off', labelsize=14, pad=10)\n",
        "ax.tick_params(\n",
        "    axis='y', which='both', left='on', right='off', labelleft='on',\n",
        "    labelright='off', labelsize=14, pad=5)\n",
        "plt.xlabel('Number of Models Evaluated', labelpad=-16, fontsize=16)\n",
        "plt.ylabel('Accuracy', labelpad=-30, fontsize=16)\n",
        "plt.xlim(0, 1000)\n",
        "sns.despine()"
      ],
      "execution_count": 0,
      "outputs": [
        {
          "output_type": "display_data",
          "data": {
            "image/png": "[encoded data removed]",
            "text/plain": [
              "<matplotlib.figure.Figure at 0x7f9b79548eb8>"
            ]
          },
          "metadata": {
            "tags": []
          }
        }
      ]
    },
    {
      "metadata": {
        "id": "nWvlb_hnJt7U",
        "colab_type": "code",
        "colab": {}
      },
      "cell_type": "code",
      "source": [
        ""
      ],
      "execution_count": 0,
      "outputs": []
    }
  ]
}
